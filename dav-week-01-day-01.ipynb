{
 "cells": [
  {
   "cell_type": "markdown",
   "metadata": {},
   "source": [
    "# <font color='maroon'>Introduction to Jupyter</font>\n",
    "\n",
    "This lesson is a brief introduction to Jupyter and Python. Jupyter is an interactive environment where you can run your code and see the output immediately. You will see how to run code in a Jupyter cell. We also learn how to create a user-defined function and use builtin functions by importing Python libraries. The lesson also introduces visualization using Matplotlib and Seaborn libraries. Numpy provides containers to store and manipulate information. We introduce Matplotlib to do basic plots.  Note that this lesson and all future lessons use Python 2. "
   ]
  },
  {
   "cell_type": "markdown",
   "metadata": {},
   "source": [
    "## Overview\n",
    "1. Running code in Jupyter\n",
    "2. User-defined functions\n",
    "3. Containers for data\n",
    "4. Introduction to Visualization\n",
    "5. Getting help in Python"
   ]
  },
  {
   "cell_type": "markdown",
   "metadata": {},
   "source": [
    "# Running code in Jupyter\n",
    "\n",
    "To run or execute code in Jupyter is quite easy. Please the cursor in the cell below and press the following keys:\n",
    "\n",
    "#### <font color=\"CornflowerBlue \">Shift-ENTER or Ctrl-ENTER  </font>"
   ]
  },
  {
   "cell_type": "code",
   "execution_count": null,
   "metadata": {},
   "outputs": [],
   "source": [
    "print \"Data Analytics and Visualisation\""
   ]
  },
  {
   "cell_type": "code",
   "execution_count": 6,
   "metadata": {},
   "outputs": [
    {
     "ename": "SyntaxError",
     "evalue": "Missing parentheses in call to 'print'. Did you mean print('Data Analytics and Visualisation')? (<ipython-input-6-a437d0923ca5>, line 1)",
     "output_type": "error",
     "traceback": [
      "\u001b[0;36m  File \u001b[0;32m\"<ipython-input-6-a437d0923ca5>\"\u001b[0;36m, line \u001b[0;32m1\u001b[0m\n\u001b[0;31m    print 'Data Analytics and Visualisation'\u001b[0m\n\u001b[0m                                           ^\u001b[0m\n\u001b[0;31mSyntaxError\u001b[0m\u001b[0;31m:\u001b[0m Missing parentheses in call to 'print'. Did you mean print('Data Analytics and Visualisation')?\n"
     ]
    }
   ],
   "source": [
    "print 'Data Analytics and Visualisation'"
   ]
  },
  {
   "cell_type": "code",
   "execution_count": 7,
   "metadata": {},
   "outputs": [
    {
     "data": {
      "text/plain": [
       "'Data Analytics and Visualisation'"
      ]
     },
     "execution_count": 7,
     "metadata": {},
     "output_type": "execute_result"
    }
   ],
   "source": [
    "'Data Analytics and Visualisation - Global'"
   ]
  },
  {
   "cell_type": "code",
   "execution_count": 8,
   "metadata": {},
   "outputs": [],
   "source": [
    "c = 10 # store the value "
   ]
  },
  {
   "cell_type": "code",
   "execution_count": 9,
   "metadata": {},
   "outputs": [
    {
     "data": {
      "text/plain": [
       "10"
      ]
     },
     "execution_count": 9,
     "metadata": {},
     "output_type": "execute_result"
    }
   ],
   "source": [
    "c # print the value in c"
   ]
  },
  {
   "cell_type": "markdown",
   "metadata": {},
   "source": [
    "#### Commenting in Jupyter\n",
    "\n",
    "It is good practise to comment your code. This way you'll remember the next day why a certain value was used or a certain variable was created. Or how the variable is updated. There are two ways to comment code in Python."
   ]
  },
  {
   "cell_type": "code",
   "execution_count": 10,
   "metadata": {},
   "outputs": [],
   "source": [
    "# this is a comment line\n",
    "c = c + 20 # value of c updated by 20"
   ]
  },
  {
   "cell_type": "code",
   "execution_count": 11,
   "metadata": {},
   "outputs": [],
   "source": [
    "def area(b,l):\n",
    "    '''\n",
    "    This is a multiline comment.\n",
    "    Used for detailed information.\n",
    "    For example, commenting on a user-defined function:\n",
    "\n",
    "    inputs/parameters: b, the breath of the rectangle\n",
    "                       l, the length of the rectangle\n",
    "\n",
    "    returns: area of rectangle \n",
    "    '''\n",
    "    pass"
   ]
  },
  {
   "cell_type": "markdown",
   "metadata": {},
   "source": [
    "#### Resetting the environment"
   ]
  },
  {
   "cell_type": "markdown",
   "metadata": {},
   "source": [
    "Sometimes confusion arises about which value was stored in a variable and when. Resetting the notebook environment deletes all the variables in the notebook for a fresh start."
   ]
  },
  {
   "cell_type": "code",
   "execution_count": null,
   "metadata": {},
   "outputs": [],
   "source": [
    "%reset"
   ]
  },
  {
   "cell_type": "code",
   "execution_count": null,
   "metadata": {},
   "outputs": [],
   "source": [
    "c"
   ]
  },
  {
   "cell_type": "markdown",
   "metadata": {},
   "source": [
    "#### Error Messages in Jupyter\n",
    "Python also generates different types of error messages for different kinds of errors. There are syntax errors, logical errors and runtime errors. Syntax errors are about using the wrong syntax. Logical errors are a fault in the logic, which a Python interpreter will still process. Runtime errors occur when the code is executed and alert you to undefined variables and functions, and breakdown in the running of the code. Below is an example of a runtime error.\n",
    "\n",
    "<img src='images/pythonerror.PNG' height=\"100\" width=\"800\"/>"
   ]
  },
  {
   "cell_type": "markdown",
   "metadata": {},
   "source": [
    "# User-defined functions"
   ]
  },
  {
   "cell_type": "markdown",
   "metadata": {},
   "source": [
    "Hopefully you've studied functions by now. But in case not, here's refresher. A programmer can write their own functions called user-defined functions. These functions are not built into the imported module functions. Although you can create your own libraries and import functions from them as well. But for now, we use the keyword `def` to define such functions. Say you want to write a function that prints hello. The function accepts as input a name and returns a greeting and the name."
   ]
  },
  {
   "cell_type": "code",
   "execution_count": null,
   "metadata": {},
   "outputs": [],
   "source": [
    "def hello(n):\n",
    "    '''input: string name\n",
    "       returns: greeting + name\n",
    "    '''\n",
    "    return 'Top of the morning', n"
   ]
  },
  {
   "cell_type": "markdown",
   "metadata": {},
   "source": [
    "To use this new function, we give it a string argument. See what happens when you enter an int as the argument."
   ]
  },
  {
   "cell_type": "code",
   "execution_count": null,
   "metadata": {},
   "outputs": [],
   "source": [
    "hello('Nat')"
   ]
  },
  {
   "cell_type": "code",
   "execution_count": null,
   "metadata": {},
   "outputs": [],
   "source": [
    "hello(9)"
   ]
  },
  {
   "cell_type": "markdown",
   "metadata": {},
   "source": [
    "Python will accept any input type. But if the variable `n` is being accessed inside the user-defined function as a list for instance, the Python interpreter returns an error. Try the following:"
   ]
  },
  {
   "cell_type": "code",
   "execution_count": null,
   "metadata": {},
   "outputs": [],
   "source": [
    "def hello(n):\n",
    "    '''input: string name\n",
    "       returns: greeting + name\n",
    "    '''\n",
    "    return 'Top of the morning', n[0]"
   ]
  },
  {
   "cell_type": "code",
   "execution_count": null,
   "metadata": {},
   "outputs": [],
   "source": [
    "hello(0)"
   ]
  },
  {
   "cell_type": "code",
   "execution_count": null,
   "metadata": {},
   "outputs": [],
   "source": []
  },
  {
   "cell_type": "markdown",
   "metadata": {},
   "source": [
    "# Containers for data"
   ]
  },
  {
   "cell_type": "markdown",
   "metadata": {},
   "source": [
    "In order to work with data we need some way to store it in Python. Suppose you're given the following lists of figures on the air pressure over different areas, and need some way to store this data in Python:\n",
    "\n",
    "$\\text{pressure} = \\{1027.63, 1029.56, 1029.81, 1028.66, 1017.3, 1022.4, 1021.7, 1021, 1021, 1021, 1021, 1017.6, 1022, 1022\\}$\n",
    "\n",
    "You can use a Python list to store this information, as in:"
   ]
  },
  {
   "cell_type": "code",
   "execution_count": null,
   "metadata": {},
   "outputs": [],
   "source": [
    "pressure = [1027.63, 1029.56, 1029.81, 1028.66, 1017.3, 1022.4, 1021.7, 1021, 1021, 1021, 1021, 1017.6, 1022, 1022]\n",
    "# pressure"
   ]
  },
  {
   "cell_type": "markdown",
   "metadata": {},
   "source": [
    "We could also use Numpy to store this information. Numpy is a scientific library that provide many operations to perform on its lists of information. Containers in Numpy are of the type `ndarray` or n-dimensional. Let's import Numpy and rename it. Renaming the library makes the name shorter and easier to type out."
   ]
  },
  {
   "cell_type": "code",
   "execution_count": null,
   "metadata": {},
   "outputs": [],
   "source": [
    "import numpy as np"
   ]
  },
  {
   "cell_type": "markdown",
   "metadata": {},
   "source": [
    "And let's store the same list `pressure` in a Numpy array instead."
   ]
  },
  {
   "cell_type": "code",
   "execution_count": null,
   "metadata": {},
   "outputs": [],
   "source": [
    "pressure = np.array([1027.63, 1029.56, 1029.81, 1028.66, 1017.3, 1022.4, 1021.7, 1021, 1021, 1021, 1021, 1017.6, 1022, 1022]) # create a 1-d array\n",
    "pressure # in jupyter, just typing the name of a variable will show it as output"
   ]
  },
  {
   "cell_type": "markdown",
   "metadata": {},
   "source": [
    "There are many operations in Numpy we could apply to the Numpy array which we would have to define if we used a generic list. Let's have a look at some. We could find the maximum or minimum element in the array quickly."
   ]
  },
  {
   "cell_type": "code",
   "execution_count": null,
   "metadata": {},
   "outputs": [],
   "source": [
    "pressure.max()"
   ]
  },
  {
   "cell_type": "code",
   "execution_count": null,
   "metadata": {},
   "outputs": [],
   "source": [
    "pressure.min()"
   ]
  },
  {
   "cell_type": "markdown",
   "metadata": {},
   "source": [
    "Now that we have our list of air pressure, suppose you're given extra information, like the longitudinal coordinates of the location were the air pressure was measured. And say you we want to store these pieces of information together. You can create a 2-dimensional array to store this information."
   ]
  },
  {
   "cell_type": "code",
   "execution_count": null,
   "metadata": {},
   "outputs": [],
   "source": [
    "longit = [32.8, 33.83, 34.14, 33.99, 24.693, 30.279, 29.615417, 29.063472, 29.148, 29.800167, 29.982111, 27.165278, 29.994722, 27.632056]\n",
    "longit"
   ]
  },
  {
   "cell_type": "code",
   "execution_count": null,
   "metadata": {},
   "outputs": [],
   "source": [
    "data = np.array([pressure,longit], #the two lists stacked on top of each other to create a 2-dimensional array   \n",
    "                np.float16)        #type of data we are storing"
   ]
  },
  {
   "cell_type": "code",
   "execution_count": null,
   "metadata": {},
   "outputs": [],
   "source": [
    "data # display the contents of the array"
   ]
  },
  {
   "cell_type": "markdown",
   "metadata": {},
   "source": [
    "We can learn about the dimension of our `air_pressure` variable."
   ]
  },
  {
   "cell_type": "code",
   "execution_count": null,
   "metadata": {},
   "outputs": [],
   "source": [
    "np.ndim(data)"
   ]
  },
  {
   "cell_type": "markdown",
   "metadata": {},
   "source": [
    "We can also describe how many data points are along each available axis, i.e. in each row and column."
   ]
  },
  {
   "cell_type": "code",
   "execution_count": null,
   "metadata": {},
   "outputs": [],
   "source": [
    "np.shape(data)"
   ]
  },
  {
   "cell_type": "markdown",
   "metadata": {},
   "source": [
    "We can calculate the mean of each row."
   ]
  },
  {
   "cell_type": "code",
   "execution_count": null,
   "metadata": {},
   "outputs": [],
   "source": [
    "data.mean(axis=1)"
   ]
  },
  {
   "cell_type": "markdown",
   "metadata": {
    "collapsed": true
   },
   "source": [
    "And the mean of each column."
   ]
  },
  {
   "cell_type": "code",
   "execution_count": null,
   "metadata": {},
   "outputs": [],
   "source": [
    "data.mean(axis=0)"
   ]
  },
  {
   "cell_type": "markdown",
   "metadata": {},
   "source": [
    "Sometimes it may be usefult to  generate arbitrary arrays of evenly spaced values within a given interval. Suppose you are interested in numbering the items in the `pressure` array. Let's get the length of the `pressure` array and use it to generate an arbitrary array of numbers."
   ]
  },
  {
   "cell_type": "code",
   "execution_count": null,
   "metadata": {},
   "outputs": [],
   "source": [
    "idx = np.arange(0, len(pressure), 1)\n",
    "idx # let's print out idx"
   ]
  },
  {
   "cell_type": "markdown",
   "metadata": {},
   "source": [
    "Or use the `np.linspace` function to do the same thing."
   ]
  },
  {
   "cell_type": "code",
   "execution_count": 86,
   "metadata": {
    "collapsed": true
   },
   "outputs": [],
   "source": [
    "a = np.linspace(0,     # minimum number\n",
    "                13,    # maximum number\n",
    "                num=len(pressure)) # how many points in range between the minimum and maximum value"
   ]
  },
  {
   "cell_type": "code",
   "execution_count": null,
   "metadata": {},
   "outputs": [],
   "source": [
    "a"
   ]
  },
  {
   "cell_type": "markdown",
   "metadata": {},
   "source": [
    "# Introduction to Visualization"
   ]
  },
  {
   "cell_type": "markdown",
   "metadata": {},
   "source": [
    "Data scientists are primarily concerned with how to wrangle data and present the results of tests performed on data. Using graphs to visualize data is much better than reading from tables of figures. Visualization aid human understanding of complex information. A good visualization reveal trends and relationships in the data. Furthermore, it can used for decision making. A good visualization avoids overloading the user with unnecessary information and unsightly shapes and colors. But it should make effective use of shapes and colors. A good visualization must also take care to represent information on a common scale. \n",
    "\n",
    "We mustn't mislead with our visualizations. Check out a few examples of misleading visualizations:\n",
    "[Remove Your Rose Tinted Glasses: Data Visualizations Designed to Mislead](https://www.datapine.com/blog/misleading-data-visualization-examples/), and \n",
    "[The most misleading charts of 2015, fixed](https://qz.com/580859/the-most-misleading-charts-of-2015-fixed/).\n",
    "\n",
    "There are many visualization tools. Because we are using Python, we will use visualization tools designed for Python. Matplotlib, Pandas and Seaborn are designed for Python and provide plots such as histograms, bar plots, box plots, scatter plots, line graphs, and many more. \n",
    "\n",
    "Learn more about `matplotlib` from their [collection of examples](http://matplotlib.org/gallery.html). Seaborn is based on matplotlib, and you can create attractive statistical plots with it. Click on this link to know more: [seaborn: statistical data visualization](http://seaborn.pydata.org/)."
   ]
  },
  {
   "cell_type": "markdown",
   "metadata": {},
   "source": [
    "We import `matplotlib`, more specifically, we're going to import `pyplot` which lets us easily use `numpy` and `matplotlib` together."
   ]
  },
  {
   "cell_type": "code",
   "execution_count": 104,
   "metadata": {
    "collapsed": true
   },
   "outputs": [],
   "source": [
    "from matplotlib import pyplot"
   ]
  },
  {
   "cell_type": "markdown",
   "metadata": {},
   "source": [
    "When plotting a graph with `matplotlib`, you decide how you want to view the plot. You can use:\n",
    "0. `pyplot.show()`: see the plot immediately\n",
    "0. `pyplot.savefig()`: save the plot to a file"
   ]
  },
  {
   "cell_type": "markdown",
   "metadata": {
    "collapsed": true
   },
   "source": [
    "You can also plot the graph _directly in the notebook_."
   ]
  },
  {
   "cell_type": "code",
   "execution_count": 105,
   "metadata": {
    "collapsed": true
   },
   "outputs": [],
   "source": [
    "%matplotlib inline"
   ]
  },
  {
   "cell_type": "markdown",
   "metadata": {},
   "source": [
    "## Choosing the right visualization"
   ]
  },
  {
   "cell_type": "markdown",
   "metadata": {},
   "source": [
    "### Line graphs\n",
    "Line graphs a great way to visualize trends and variations in data over time. The graph displays how data changes over time. In our example, how does air pressure change over time? Let's see what is happening."
   ]
  },
  {
   "cell_type": "code",
   "execution_count": 89,
   "metadata": {},
   "outputs": [
    {
     "data": {
      "text/plain": [
       "[<matplotlib.lines.Line2D at 0x7f0037e7f550>]"
      ]
     },
     "execution_count": 89,
     "metadata": {},
     "output_type": "execute_result"
    },
    {
     "data": {
      "image/png": "[encoded data removed]",
      "text/plain": [
       "<matplotlib.figure.Figure at 0x7f004bf28310>"
      ]
     },
     "metadata": {},
     "output_type": "display_data"
    }
   ],
   "source": [
    "pyplot.plot(idx,      # x-axis as the time axis\n",
    "            pressure, # y-axis\n",
    "            'ro--')    # plot a dashed red line with solid dots at pressure points"
   ]
  },
  {
   "cell_type": "markdown",
   "metadata": {},
   "source": [
    "Right away you can see that the highest air pressure was recorded round about second time unit, and then the pressure dropped dramatically and rose again. The overall trend is that the air pressure dropped in the interval of time it was recorded. \n",
    "\n",
    "Avoid having too many line graphs in one plot. Too many line graphs can become distracting and confusing. "
   ]
  },
  {
   "cell_type": "markdown",
   "metadata": {},
   "source": [
    "### Bar graphs\n",
    "\n",
    "Bar graphs are a great way to compare data in different categories. We look at when to use horizontal bar graphs, column bar graphs and stacked bar graphs, and when not to use these. \n",
    "\n",
    "####  Horizontal bar graphs\n",
    "We can use horizontal bar graphs to compare rankings. For example, we can use a horizontal bar graph to see the ranking of the [top 10 box office movies according to Rotten Tomatoes](https://www.rottentomatoes.com/m/justice_league_2017)."
   ]
  },
  {
   "cell_type": "code",
   "execution_count": 90,
   "metadata": {},
   "outputs": [
    {
     "data": {
      "text/plain": [
       "<matplotlib.text.Text at 0x7f0037d96b90>"
      ]
     },
     "execution_count": 90,
     "metadata": {},
     "output_type": "execute_result"
    },
    {
     "data": {
      "image/png": "[encoded data removed]",
      "text/plain": [
       "<matplotlib.figure.Figure at 0x7f0037ef0450>"
      ]
     },
     "metadata": {},
     "output_type": "display_data"
    }
   ],
   "source": [
    "pyplot.rcdefaults()\n",
    "fig, ax = pyplot.subplots()\n",
    "movies = (\"Justice League\", \"Justice League\", \"Thor: Ragnarok\", \n",
    "          \"Daddy's Home 2\", \"Murder On The Orient Express\",\n",
    "          \"The Star\", \"A Bad Moms Christmas\", \"Lady Bird\", \"Three Billboards Outside Ebbing, Missouri\", \"Jigsaw\")\n",
    "y_pos = np.arange(len(movies))\n",
    "percentages = [41,86,92,17,59,55,27,100,94,33]\n",
    "ax.barh(y_pos, percentages, color='red')\n",
    "ax.set_yticks(y_pos)\n",
    "ax.set_yticklabels(movies)\n",
    "ax.invert_yaxis()  # labels read top-to-bottom\n",
    "ax.set_xlabel('Performance %')\n",
    "ax.set_title('Top 10 Box Office')"
   ]
  },
  {
   "cell_type": "markdown",
   "metadata": {},
   "source": [
    "Avoid using a horizontal bar graph when you have too many data points you want to display. Too many data points will clutter the graph. "
   ]
  },
  {
   "cell_type": "markdown",
   "metadata": {},
   "source": [
    "#### Column bar graphs\n",
    "\n",
    "Column bar graphs are great for comparing data for a specific period or data across categories. In the graph below by [BusinessQ](https://businessq-software.com/2017/02/13/bar-chart-definition-examples-businessq/), we see how a column graph is used to compare actual sales with targetted sales for products.\n",
    "\n",
    "<img src=\"images/BusinessQ-bar-chart-nominal-comparison-2-numerical-axes.png\"/>"
   ]
  },
  {
   "cell_type": "markdown",
   "metadata": {},
   "source": [
    "Avoid using column bar graphs when you have too many categories to compare. If you have many categories to compare, consider plotting separate column bar graphs for various groups."
   ]
  },
  {
   "cell_type": "markdown",
   "metadata": {},
   "source": [
    "#### Stacked bar graphs\n",
    "\n",
    "We can use stacked bar graphs to compare data to itself. The graph breaks data into groups. Each bar in the chart represents a whole, and segments in the bar represent different groups. [\"Stacked bar graphs are often used in evaluations to show the full scale of survey responses, from Strongly Disagree to Strongly Agree, for each survey question.\"](http://www.betterevaluation.org/en/evaluation-options/stacked_graph)\n",
    "\n",
    "In this example from [BusinessQ](https://businessq-software.com/2017/02/21/stacked-bar-chart-definition-and-examples-businessq/), we see how a stacked bar graph is used to compare sales by item group. \n",
    "\n",
    "\n",
    "<img src=\"images/BusinessQ-stacked-bar-chart-ranking.png\"/>"
   ]
  },
  {
   "cell_type": "markdown",
   "metadata": {},
   "source": [
    "Again, avoid stacked bar graphs when you have too much information to display. The bars can become long and getting numerical information about a segment can become hard."
   ]
  },
  {
   "cell_type": "markdown",
   "metadata": {},
   "source": [
    "### Pie Charts\n",
    "\n",
    "A pie chart is a great way to show percentages of groups. So they are a great way to answer questions like, what percentage does [Apple have of the US smartphone market?](http://fortune.com/2016/02/11/apple-iphone-ios-share/)\n",
    "\n",
    "<img src=\"images/476885906137.gif\"/>\n",
    "\n",
    "Be careful when drawing conclusions using pie charts. When segments are close in size, it becomes difficult for people to read them. The human eye cannot determine accurately which section is bigger than the other. Added to this pie charts are only good at capturing percentages over a static time frame. The data on Apple's share of the US smartphone market is from 2016; what of data from 2014 or 2015?"
   ]
  },
  {
   "cell_type": "markdown",
   "metadata": {},
   "source": [
    "### Scatter plots"
   ]
  },
  {
   "cell_type": "markdown",
   "metadata": {},
   "source": [
    "Scatter plots are used to reveal relationships in a data set. We use them to look for correlations between pairwise data points. Data points are plotted in pairs, with the independent data point usually on the x-axis and the dependent data point on the y-axis.  \n",
    "\n",
    "<img src='images/weight-height.png'>\n",
    "\n",
    "This dense scatter plot reveals a linear relationship between weight in pounds and height in inches of teenagers. Avoid using scatter plots when you have a small data set. The scatter plot you generate will be sparse and not provide useful information. A relationship is usually revealed when there are many data points. \n",
    "\n",
    "In order to plot a scatterplot, we use the following method:"
   ]
  },
  {
   "cell_type": "code",
   "execution_count": 116,
   "metadata": {},
   "outputs": [
    {
     "data": {
      "text/plain": [
       "<matplotlib.collections.PathCollection at 0x7f0037fd1150>"
      ]
     },
     "execution_count": 116,
     "metadata": {},
     "output_type": "execute_result"
    },
    {
     "data": {
      "image/png": "[encoded data removed]",
      "text/plain": [
       "<matplotlib.figure.Figure at 0x7f0037898ad0>"
      ]
     },
     "metadata": {},
     "output_type": "display_data"
    }
   ],
   "source": [
    "pyplot.scatter([0,1,2],[0,3,10], s=30, c='green', marker='o', alpha=.5)"
   ]
  },
  {
   "cell_type": "markdown",
   "metadata": {},
   "source": [
    "The two lists in the first arguments of the scatter function are the x and y values. And the additional arguments are:\n",
    "\n",
    "    `s=5`: sets the size of the dots to 5 pixels\n",
    "    `green`:  will colour the dots green. Choose other options like 'r'\n",
    "    `marker='*'`: will draw an asterisk for each data point plotted\n",
    "    `alpha=0.2`: will change the transparency of the line (0<=alpha<=1).\n",
    "\n",
    "    "
   ]
  },
  {
   "cell_type": "code",
   "execution_count": 4,
   "metadata": {
    "collapsed": true
   },
   "outputs": [],
   "source": [
    "#pyplot.scatter?"
   ]
  },
  {
   "cell_type": "code",
   "execution_count": null,
   "metadata": {
    "collapsed": true
   },
   "outputs": [],
   "source": [
    "#help(pyplot.scatter)"
   ]
  },
  {
   "cell_type": "markdown",
   "metadata": {},
   "source": [
    "## A graphing exercise"
   ]
  },
  {
   "cell_type": "markdown",
   "metadata": {},
   "source": [
    "Let's experiment with Matplotlib. Besides plotting existing data, you can also plot functions using Matplotlib. How about plotting simple functions like $$y_1 = 2x + 3,$$ and another set of points $$y_2 = -3x - 5?$$\n"
   ]
  },
  {
   "cell_type": "markdown",
   "metadata": {},
   "source": [
    "Let's generate $x$ data points that lie between $-10$ and $10$. We will use `np.arange()` function to generate these points."
   ]
  },
  {
   "cell_type": "code",
   "execution_count": 91,
   "metadata": {
    "collapsed": true
   },
   "outputs": [],
   "source": [
    "x = np.arange(-10, 10)"
   ]
  },
  {
   "cell_type": "markdown",
   "metadata": {},
   "source": [
    "Next, let's generate our $y$ data. Again we use `numpy` (which we renamed `np`). For equation $$y_1 = 2x + 3,$$ we use the variable `y1` in our code for the $y$ values. \n",
    "\n",
    "Using list comprehension, we calculate the question $y_1 = 2x + 3$ and store the information in the variable `y1`."
   ]
  },
  {
   "cell_type": "code",
   "execution_count": 92,
   "metadata": {
    "collapsed": true
   },
   "outputs": [],
   "source": [
    "y1 = [(i*2 + 3) for i in x]"
   ]
  },
  {
   "cell_type": "markdown",
   "metadata": {},
   "source": [
    "We now use the `matplotlib` module by calling the function `plot` to plot our data points."
   ]
  },
  {
   "cell_type": "code",
   "execution_count": 93,
   "metadata": {},
   "outputs": [
    {
     "data": {
      "text/plain": [
       "[<matplotlib.lines.Line2D at 0x7f0037cabf90>]"
      ]
     },
     "execution_count": 93,
     "metadata": {},
     "output_type": "execute_result"
    },
    {
     "data": {
      "image/png": "[encoded data removed]",
      "text/plain": [
       "<matplotlib.figure.Figure at 0x7f0037e36e90>"
      ]
     },
     "metadata": {},
     "output_type": "display_data"
    }
   ],
   "source": [
    "pyplot.plot(x, y1)"
   ]
  },
  {
   "cell_type": "markdown",
   "metadata": {},
   "source": [
    "The `plot` function takes many arguments. The main arguments are the $x$ and $y$ data points. \n",
    "\n",
    "For equation $$y_2 = -3x - 5,$$ we use the variable `y2` in our code for the $y$ values. We can plot this equation on the same plot as the first equation. "
   ]
  },
  {
   "cell_type": "code",
   "execution_count": 94,
   "metadata": {},
   "outputs": [
    {
     "data": {
      "text/plain": [
       "[<matplotlib.lines.Line2D at 0x7f0037bfba50>,\n",
       " <matplotlib.lines.Line2D at 0x7f0037bfbb50>]"
      ]
     },
     "execution_count": 94,
     "metadata": {},
     "output_type": "execute_result"
    },
    {
     "data": {
      "image/png": "[encoded data removed]",
      "text/plain": [
       "<matplotlib.figure.Figure at 0x7f0037c5abd0>"
      ]
     },
     "metadata": {},
     "output_type": "display_data"
    }
   ],
   "source": [
    "y2 = [((-3*i) - 5) for i in x]\n",
    "pyplot.plot(x, y1, 'g', x, y2, 'r', marker='*', linewidth=3, alpha=.2)"
   ]
  },
  {
   "cell_type": "markdown",
   "metadata": {},
   "source": [
    "#### Note the additional input arguments\n",
    "\n",
    "    `g`:  will colour the line green. Choose other options like 'r'\n",
    "    `marker='*'`: will draw an asterisk for each data point plotted\n",
    "    `alpha=0.2`: will change the transparency of the line (0<=alpha<=1).\n",
    "    `linewidth=3: sets the width of the line to 3 pixels\n",
    "    \n",
    "   \n",
    "For a complete listing of the styles of lines, see the [`plot() documentation`](http://matplotlib.org/api/pyplot_api.html#matplotlib.pyplot.plot)."
   ]
  },
  {
   "cell_type": "code",
   "execution_count": null,
   "metadata": {
    "collapsed": true
   },
   "outputs": [],
   "source": []
  },
  {
   "cell_type": "markdown",
   "metadata": {},
   "source": [
    "Add a third line to the same plot. This time use a new equation $y = x$. There should be 3 lines on the graph."
   ]
  },
  {
   "cell_type": "code",
   "execution_count": null,
   "metadata": {
    "collapsed": true
   },
   "outputs": [],
   "source": []
  },
  {
   "cell_type": "markdown",
   "metadata": {},
   "source": [
    "## Adding descriptions to your plots"
   ]
  },
  {
   "cell_type": "code",
   "execution_count": 95,
   "metadata": {
    "collapsed": true
   },
   "outputs": [],
   "source": [
    "x = np.arange(-10, 10)\n",
    "y = [((-3*i) - 5) for i in x]"
   ]
  },
  {
   "cell_type": "markdown",
   "metadata": {},
   "source": [
    "We want to plot and label the data points given above. We'll create a subplot and add an axis to our subplot. The subplot will also contain a legend."
   ]
  },
  {
   "cell_type": "code",
   "execution_count": 96,
   "metadata": {},
   "outputs": [
    {
     "data": {
      "text/plain": [
       "<matplotlib.legend.Legend at 0x7f0037ac1650>"
      ]
     },
     "execution_count": 96,
     "metadata": {},
     "output_type": "execute_result"
    },
    {
     "data": {
      "image/png": "[encoded data removed]",
      "text/plain": [
       "<matplotlib.figure.Figure at 0x7f0037b93e10>"
      ]
     },
     "metadata": {},
     "output_type": "display_data"
    }
   ],
   "source": [
    "fig = pyplot.figure()            # create a figure object\n",
    "ax = pyplot.subplot(111)         # create 1 grid with 1 subplot\n",
    "ax.plot(x, y,label=\"$y=-3x-5$\")  # label the subplot\n",
    "pyplot.title('A line graph')     # add title to figure\n",
    "ax.legend()                      # add a legend"
   ]
  },
  {
   "cell_type": "markdown",
   "metadata": {},
   "source": [
    "### Multiple plots in the same figure\n",
    "\n",
    "We can even put more than one plot in a figure by using `subplot()`. For example, we could divide a figure vertically into two subplots, by creating a 1 by 2 grid and positioning the figures in the columns. The first subplot has its own axis, so so the second subplot.\n",
    "        \n",
    "<img src='images/subplot-vertical.png'>\n",
    "\n"
   ]
  },
  {
   "cell_type": "code",
   "execution_count": 100,
   "metadata": {},
   "outputs": [],
   "source": [
    "#help(pyplot.subplot)"
   ]
  },
  {
   "cell_type": "markdown",
   "metadata": {},
   "source": [
    "Let's create a suplot for the two functions above."
   ]
  },
  {
   "cell_type": "code",
   "execution_count": 103,
   "metadata": {},
   "outputs": [
    {
     "data": {
      "text/plain": [
       "[<matplotlib.lines.Line2D at 0x7f003738a510>]"
      ]
     },
     "execution_count": 103,
     "metadata": {},
     "output_type": "execute_result"
    },
    {
     "data": {
      "image/png": "[encoded data removed]",
      "text/plain": [
       "<matplotlib.figure.Figure at 0x7f0037831ed0>"
      ]
     },
     "metadata": {},
     "output_type": "display_data"
    }
   ],
   "source": [
    "ax = pyplot.subplot(1,2,1)  # 1 by 2 grid, first grid\n",
    "ax1 = pyplot.subplot(1,2,2) # 1 by 2 grid, second grid\n",
    "ax.plot(x, y1)\n",
    "ax1.plot(x,y)\n"
   ]
  },
  {
   "cell_type": "code",
   "execution_count": null,
   "metadata": {
    "collapsed": true
   },
   "outputs": [],
   "source": []
  },
  {
   "cell_type": "markdown",
   "metadata": {
    "collapsed": true
   },
   "source": [
    "## Getting help"
   ]
  },
  {
   "cell_type": "markdown",
   "metadata": {
    "collapsed": true
   },
   "source": [
    "You can find out more about a module or function or data type with the following way."
   ]
  },
  {
   "cell_type": "code",
   "execution_count": null,
   "metadata": {
    "collapsed": true
   },
   "outputs": [],
   "source": [
    "help(numpy)"
   ]
  },
  {
   "cell_type": "code",
   "execution_count": null,
   "metadata": {
    "collapsed": true
   },
   "outputs": [],
   "source": [
    "numpy?"
   ]
  },
  {
   "cell_type": "code",
   "execution_count": null,
   "metadata": {
    "collapsed": true
   },
   "outputs": [],
   "source": [
    "dir(numpy)"
   ]
  },
  {
   "cell_type": "markdown",
   "metadata": {},
   "source": [
    "`dir` returns a list of attributes and methods associated with the object."
   ]
  },
  {
   "cell_type": "markdown",
   "metadata": {},
   "source": [
    "## References"
   ]
  },
  {
   "cell_type": "markdown",
   "metadata": {},
   "source": [
    "For more inforamtion on how to create arrays in Numpy, see here\n",
    "<a href=\"https://docs.scipy.org/doc/numpy-dev/user/quickstart.html\">NumPy Quickstart tutorial.</a>\n",
    "\n",
    "For more information on Matplotlib, see this link: <a href=\"http://matplotlib.org/\">matplotlib</a>\n",
    "\n",
    "For more information on color maps in Matplotlib, see <a href='http://matplotlib.org/examples/color/colormaps_reference.html'>color example code: colormaps_reference.py</a>\n",
    "\n",
    "For more on Seaborn, see <a href=\"http://seaborn.pydata.org\">Seaborn: Statistical Data Visualization</a>\n",
    "\n",
    "[Visualization tools](https://www.analyticsvidhya.com/blog/2015/09/infographic-tools-data-visualization/)\n",
    "\n",
    "For designing charts and visualizations, see this insightful link [Designing Charts and Graphs: How to Choose the Right Data Visualization Types](https://www.datapine.com/blog/how-to-choose-the-right-data-visualization-types/)\n",
    "\n",
    "See the Matplotlib Pyplot gallery for more on different [plots](Matplotlib has great documentation on bar graphs [here](http://matplotlib.org/api/pyplot_api.html#matplotlib.pyplot.bar).\n",
    "\n",
    "See Chris Ablon's entry on stack column bar graphs. They're called [Grouped Bar graphs and use Pandas](https://chrisalbon.com/python/matplotlib_grouped_bar_plot.html).\n"
   ]
  },
  {
   "cell_type": "code",
   "execution_count": null,
   "metadata": {
    "collapsed": true
   },
   "outputs": [],
   "source": []
  }
 ],
 "metadata": {
  "kernelspec": {
   "display_name": "Python 3",
   "language": "python",
   "name": "python3"
  },
  "language_info": {
   "codemirror_mode": {
    "name": "ipython",
    "version": 3
   },
   "file_extension": ".py",
   "mimetype": "text/x-python",
   "name": "python",
   "nbconvert_exporter": "python",
   "pygments_lexer": "ipython3",
   "version": "3.6.4"
  }
 },
 "nbformat": 4,
 "nbformat_minor": 2
}
