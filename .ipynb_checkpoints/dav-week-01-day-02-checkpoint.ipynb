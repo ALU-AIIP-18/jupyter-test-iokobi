{
 "cells": [
  {
   "cell_type": "markdown",
   "metadata": {
    "collapsed": true
   },
   "source": [
    "# <font color='maroon'>Data wrangling with Pandas</font>"
   ]
  },
  {
   "cell_type": "markdown",
   "metadata": {},
   "source": [
    "In this lesson we learn how to load data into a tabular data structure called a dataframe. The dataframe is provided by the Pandas library. Pandas is built on top of the Numpy library. In this notebook we'll study the attributes of a dataframe and the functions you can perform on a dataframe."
   ]
  },
  {
   "cell_type": "markdown",
   "metadata": {},
   "source": [
    "## Overview\n",
    "1. What is Pandas?\n",
    "2. Creating a Pandas dataframe.\n",
    "3. Plotting with Pandas."
   ]
  },
  {
   "cell_type": "markdown",
   "metadata": {},
   "source": [
    "# What is a Pandas dataframe?"
   ]
  },
  {
   "cell_type": "markdown",
   "metadata": {},
   "source": [
    "We introduced containers like lists and arrays to store data. Did you notice that data stored in lists and arrays are of the same type? For instance the list with air pressure measurements contained just numerical values. Data science problems arise were we need a container to store data of different types. Simple arrays are useful, but they’re not always a particularly good way of representing different data forms to a human being, and it can become cumbersome to manipulate data in arrays manually. To get around this, a library called Pandas introduces a slightly higher level data structure – a dataframe. This let’s us store information in tabular form (as you might do in Excel) and perform more complicated operations on this information. For example, it’s possible to select a subset of the data based on the values in a particular column, add new columns, combine two dataframes into one larger dataframe and so on. Columns can be given names, and rows can be given an explicit index, to allow us to access a particular piece of information.\n",
    "\n",
    "Pandas is a Python library for data manipulation and analysis, e.g. multidimensional time series and cross-sectional data sets commonly found in statistics, experimental science results, econometrics, or finance. You can perform indexing, renaming, grouping, create new columns, do basic statistics, merge, and do basic plots on a Pandas dataframe. There are also functions to load and open csv files, Excel files and other data file types into a Pandas dataframe, or to store a dataframe in a variety of formats. Although all of this could theoretically be done using Numpy, Pandas makes the job much easier, so we’ll be using Pandas dataframes extensively throughout this course.\n",
    "\n",
    "Pandas includes other data structures as well, which we may go into later. A more detailed explanation of Pandas is available here: pandas: [powerful Python data analysis toolkit](https://pandas.pydata.org/pandas-docs/stable/). For now, let’s look at how we can get data into a dataframe and start working with it.\n"
   ]
  },
  {
   "cell_type": "markdown",
   "metadata": {},
   "source": [
    "## Loading a file into a Pandas dataframe"
   ]
  },
  {
   "cell_type": "code",
   "execution_count": 4,
   "metadata": {
    "collapsed": true
   },
   "outputs": [],
   "source": [
    "import numpy as np\n",
    "import pandas as pd"
   ]
  },
  {
   "cell_type": "code",
   "execution_count": 5,
   "metadata": {
    "collapsed": true
   },
   "outputs": [],
   "source": [
    "%matplotlib inline"
   ]
  },
  {
   "cell_type": "markdown",
   "metadata": {},
   "source": [
    "### The dataset"
   ]
  },
  {
   "cell_type": "markdown",
   "metadata": {},
   "source": [
    "We are going to use a data from the popular data science platform, [Kaggle](https://www.kaggle.com/). On Kaggle, you can begin to learn machine learning by participating in data analytics competitions. You can sign up and join a competition. You may then download datasets for that competition and submit a solution. \n",
    "\n",
    "We downloaded the College Women's basketball dataset. The dataset contains player name, team, position, height, weight, BMI, birth place, birth date, age, college, experience, games played, and game statistics for each player."
   ]
  },
  {
   "cell_type": "code",
   "execution_count": 6,
   "metadata": {
    "collapsed": false
   },
   "outputs": [
    {
     "data": {
      "text/plain": [
       "Index([u'Name', u'Team', u'Pos', u'Height', u'Weight', u'BMI', u'Birth_Place',\n",
       "       u'Birthdate', u'Age', u'College', u'Experience', u'Games Played',\n",
       "       u'MIN', u'FGM', u'FGA', u'FG%', u'15:00', u'3PA', u'3P%', u'FTM',\n",
       "       u'FTA', u'FT%', u'OREB', u'DREB', u'REB', u'AST', u'STL', u'BLK', u'TO',\n",
       "       u'PTS', u'DD2', u'TD3'],\n",
       "      dtype='object')"
      ]
     },
     "execution_count": 6,
     "metadata": {},
     "output_type": "execute_result"
    }
   ],
   "source": [
    "data = pd.read_csv('data/collegebasketball.csv', #name of file\n",
    "                   sep=',')  # how columns are separated\n",
    "\n",
    "data.columns"
   ]
  },
  {
   "cell_type": "markdown",
   "metadata": {},
   "source": [
    "Pandas allows you to load a comma separated file as is. "
   ]
  },
  {
   "cell_type": "code",
   "execution_count": 9,
   "metadata": {
    "collapsed": false
   },
   "outputs": [
    {
     "data": {
      "text/plain": [
       "pandas.core.frame.DataFrame"
      ]
     },
     "execution_count": 9,
     "metadata": {},
     "output_type": "execute_result"
    }
   ],
   "source": [
    "type(data)"
   ]
  },
  {
   "cell_type": "markdown",
   "metadata": {},
   "source": [
    "This is the type of Pandas dataframe."
   ]
  },
  {
   "cell_type": "code",
   "execution_count": 11,
   "metadata": {
    "collapsed": false
   },
   "outputs": [
    {
     "data": {
      "text/plain": [
       "Index(['Name', 'Team', 'Pos', 'Height', 'Weight', 'BMI', 'Birth_Place',\n",
       "       'Birthdate', 'Age', 'College', 'Experience', 'Games Played', 'MIN',\n",
       "       'FGM', 'FGA', 'FG%', '15:00', '3PA', '3P%', 'FTM', 'FTA', 'FT%', 'OREB',\n",
       "       'DREB', 'REB', 'AST', 'STL', 'BLK', 'TO', 'PTS', 'DD2', 'TD3'],\n",
       "      dtype='object')"
      ]
     },
     "execution_count": 11,
     "metadata": {},
     "output_type": "execute_result"
    }
   ],
   "source": [
    "data.columns"
   ]
  },
  {
   "cell_type": "markdown",
   "metadata": {},
   "source": [
    "We use the columns function to get all the column names."
   ]
  },
  {
   "cell_type": "code",
   "execution_count": 12,
   "metadata": {
    "collapsed": false
   },
   "outputs": [
    {
     "data": {
      "text/plain": [
       "pandas.core.series.Series"
      ]
     },
     "execution_count": 12,
     "metadata": {},
     "output_type": "execute_result"
    }
   ],
   "source": [
    "type(data['Name'])"
   ]
  },
  {
   "cell_type": "markdown",
   "metadata": {},
   "source": [
    "This is the type of a single column."
   ]
  },
  {
   "cell_type": "markdown",
   "metadata": {},
   "source": [
    "### Indexing a dataframe"
   ]
  },
  {
   "cell_type": "markdown",
   "metadata": {},
   "source": [
    "We may want to set an column index to make access to data points easier. An index uniquely identifies each row. In this case, the index is preset from 0 to 143."
   ]
  },
  {
   "cell_type": "code",
   "execution_count": 35,
   "metadata": {
    "collapsed": false
   },
   "outputs": [
    {
     "data": {
      "text/plain": [
       "RangeIndex(start=0, stop=143, step=1)"
      ]
     },
     "execution_count": 35,
     "metadata": {},
     "output_type": "execute_result"
    }
   ],
   "source": [
    "data.index"
   ]
  },
  {
   "cell_type": "markdown",
   "metadata": {},
   "source": [
    "This index is not very informative. We would like to label each row with a unique key that is not shared by any other row. In order to do that, look at the data in the dataframe to see what column matches this requirement and use it as a key. "
   ]
  },
  {
   "cell_type": "code",
   "execution_count": 17,
   "metadata": {
    "collapsed": false
   },
   "outputs": [],
   "source": [
    "#data"
   ]
  },
  {
   "cell_type": "markdown",
   "metadata": {
    "collapsed": false
   },
   "source": [
    "We see here that the `Name` uniquely identifies each row. So we set it as the index."
   ]
  },
  {
   "cell_type": "code",
   "execution_count": 7,
   "metadata": {
    "collapsed": false
   },
   "outputs": [
    {
     "data": {
      "text/html": [
       "<div>\n",
       "<table border=\"1\" class=\"dataframe\">\n",
       "  <thead>\n",
       "    <tr style=\"text-align: right;\">\n",
       "      <th></th>\n",
       "      <th>Name</th>\n",
       "      <th>Team</th>\n",
       "      <th>Pos</th>\n",
       "      <th>Height</th>\n",
       "      <th>Weight</th>\n",
       "      <th>BMI</th>\n",
       "      <th>Birth_Place</th>\n",
       "      <th>Birthdate</th>\n",
       "      <th>Age</th>\n",
       "      <th>College</th>\n",
       "      <th>...</th>\n",
       "      <th>OREB</th>\n",
       "      <th>DREB</th>\n",
       "      <th>REB</th>\n",
       "      <th>AST</th>\n",
       "      <th>STL</th>\n",
       "      <th>BLK</th>\n",
       "      <th>TO</th>\n",
       "      <th>PTS</th>\n",
       "      <th>DD2</th>\n",
       "      <th>TD3</th>\n",
       "    </tr>\n",
       "    <tr>\n",
       "      <th>Name</th>\n",
       "      <th></th>\n",
       "      <th></th>\n",
       "      <th></th>\n",
       "      <th></th>\n",
       "      <th></th>\n",
       "      <th></th>\n",
       "      <th></th>\n",
       "      <th></th>\n",
       "      <th></th>\n",
       "      <th></th>\n",
       "      <th></th>\n",
       "      <th></th>\n",
       "      <th></th>\n",
       "      <th></th>\n",
       "      <th></th>\n",
       "      <th></th>\n",
       "      <th></th>\n",
       "      <th></th>\n",
       "      <th></th>\n",
       "      <th></th>\n",
       "      <th></th>\n",
       "    </tr>\n",
       "  </thead>\n",
       "  <tbody>\n",
       "    <tr>\n",
       "      <th>Aerial Powers</th>\n",
       "      <td>Aerial Powers</td>\n",
       "      <td>DAL</td>\n",
       "      <td>F</td>\n",
       "      <td>183</td>\n",
       "      <td>71.0</td>\n",
       "      <td>21.200991</td>\n",
       "      <td>US</td>\n",
       "      <td>January 17, 1994</td>\n",
       "      <td>23</td>\n",
       "      <td>Michigan State</td>\n",
       "      <td>...</td>\n",
       "      <td>6</td>\n",
       "      <td>22</td>\n",
       "      <td>28</td>\n",
       "      <td>12</td>\n",
       "      <td>3</td>\n",
       "      <td>6</td>\n",
       "      <td>12</td>\n",
       "      <td>93</td>\n",
       "      <td>0</td>\n",
       "      <td>0</td>\n",
       "    </tr>\n",
       "    <tr>\n",
       "      <th>Alana Beard</th>\n",
       "      <td>Alana Beard</td>\n",
       "      <td>LA</td>\n",
       "      <td>G/F</td>\n",
       "      <td>185</td>\n",
       "      <td>73.0</td>\n",
       "      <td>21.329438</td>\n",
       "      <td>US</td>\n",
       "      <td>May 14, 1982</td>\n",
       "      <td>35</td>\n",
       "      <td>Duke</td>\n",
       "      <td>...</td>\n",
       "      <td>19</td>\n",
       "      <td>82</td>\n",
       "      <td>101</td>\n",
       "      <td>72</td>\n",
       "      <td>63</td>\n",
       "      <td>13</td>\n",
       "      <td>40</td>\n",
       "      <td>217</td>\n",
       "      <td>0</td>\n",
       "      <td>0</td>\n",
       "    </tr>\n",
       "    <tr>\n",
       "      <th>Alex Bentley</th>\n",
       "      <td>Alex Bentley</td>\n",
       "      <td>CON</td>\n",
       "      <td>G</td>\n",
       "      <td>170</td>\n",
       "      <td>69.0</td>\n",
       "      <td>23.875433</td>\n",
       "      <td>US</td>\n",
       "      <td>October 27, 1990</td>\n",
       "      <td>26</td>\n",
       "      <td>Penn State</td>\n",
       "      <td>...</td>\n",
       "      <td>4</td>\n",
       "      <td>36</td>\n",
       "      <td>40</td>\n",
       "      <td>78</td>\n",
       "      <td>22</td>\n",
       "      <td>3</td>\n",
       "      <td>24</td>\n",
       "      <td>218</td>\n",
       "      <td>0</td>\n",
       "      <td>0</td>\n",
       "    </tr>\n",
       "    <tr>\n",
       "      <th>Alex Montgomery</th>\n",
       "      <td>Alex Montgomery</td>\n",
       "      <td>SAN</td>\n",
       "      <td>G/F</td>\n",
       "      <td>185</td>\n",
       "      <td>84.0</td>\n",
       "      <td>24.543462</td>\n",
       "      <td>US</td>\n",
       "      <td>December 11, 1988</td>\n",
       "      <td>28</td>\n",
       "      <td>Georgia Tech</td>\n",
       "      <td>...</td>\n",
       "      <td>35</td>\n",
       "      <td>134</td>\n",
       "      <td>169</td>\n",
       "      <td>65</td>\n",
       "      <td>20</td>\n",
       "      <td>10</td>\n",
       "      <td>38</td>\n",
       "      <td>188</td>\n",
       "      <td>2</td>\n",
       "      <td>0</td>\n",
       "    </tr>\n",
       "    <tr>\n",
       "      <th>Alexis Jones</th>\n",
       "      <td>Alexis Jones</td>\n",
       "      <td>MIN</td>\n",
       "      <td>G</td>\n",
       "      <td>175</td>\n",
       "      <td>78.0</td>\n",
       "      <td>25.469388</td>\n",
       "      <td>US</td>\n",
       "      <td>August 5, 1994</td>\n",
       "      <td>23</td>\n",
       "      <td>Baylor</td>\n",
       "      <td>...</td>\n",
       "      <td>3</td>\n",
       "      <td>9</td>\n",
       "      <td>12</td>\n",
       "      <td>12</td>\n",
       "      <td>7</td>\n",
       "      <td>0</td>\n",
       "      <td>14</td>\n",
       "      <td>50</td>\n",
       "      <td>0</td>\n",
       "      <td>0</td>\n",
       "    </tr>\n",
       "  </tbody>\n",
       "</table>\n",
       "<p>5 rows × 32 columns</p>\n",
       "</div>"
      ],
      "text/plain": [
       "                            Name Team  Pos  Height  Weight        BMI  \\\n",
       "Name                                                                    \n",
       "Aerial Powers      Aerial Powers  DAL    F     183    71.0  21.200991   \n",
       "Alana Beard          Alana Beard   LA  G/F     185    73.0  21.329438   \n",
       "Alex Bentley        Alex Bentley  CON    G     170    69.0  23.875433   \n",
       "Alex Montgomery  Alex Montgomery  SAN  G/F     185    84.0  24.543462   \n",
       "Alexis Jones        Alexis Jones  MIN    G     175    78.0  25.469388   \n",
       "\n",
       "                Birth_Place          Birthdate  Age         College ...  OREB  \\\n",
       "Name                                                                ...         \n",
       "Aerial Powers            US   January 17, 1994   23  Michigan State ...     6   \n",
       "Alana Beard              US       May 14, 1982   35            Duke ...    19   \n",
       "Alex Bentley             US   October 27, 1990   26      Penn State ...     4   \n",
       "Alex Montgomery          US  December 11, 1988   28    Georgia Tech ...    35   \n",
       "Alexis Jones             US     August 5, 1994   23          Baylor ...     3   \n",
       "\n",
       "                 DREB  REB  AST  STL  BLK  TO  PTS  DD2  TD3  \n",
       "Name                                                          \n",
       "Aerial Powers      22   28   12    3    6  12   93    0    0  \n",
       "Alana Beard        82  101   72   63   13  40  217    0    0  \n",
       "Alex Bentley       36   40   78   22    3  24  218    0    0  \n",
       "Alex Montgomery   134  169   65   20   10  38  188    2    0  \n",
       "Alexis Jones        9   12   12    7    0  14   50    0    0  \n",
       "\n",
       "[5 rows x 32 columns]"
      ]
     },
     "execution_count": 7,
     "metadata": {},
     "output_type": "execute_result"
    }
   ],
   "source": [
    "data.set_index(data['Name'],  # column selected as index\n",
    "               inplace=True)  # modify the object without reassigning it to a new variable\n",
    "data.head()"
   ]
  },
  {
   "cell_type": "markdown",
   "metadata": {},
   "source": [
    "`data.head()` or `data.tail()` is a neat way to get a cursatory look at the data. The `head()` returns the first five rows of the dataframe. The function `tail()` returns the last five rows of the dataframe."
   ]
  },
  {
   "cell_type": "markdown",
   "metadata": {},
   "source": [
    "### Descriptive information"
   ]
  },
  {
   "cell_type": "markdown",
   "metadata": {},
   "source": [
    "Let's find out more about the data."
   ]
  },
  {
   "cell_type": "markdown",
   "metadata": {},
   "source": [
    "The size of the dataset, or the number of rows and columns in the dataframe, is given by:"
   ]
  },
  {
   "cell_type": "code",
   "execution_count": 28,
   "metadata": {
    "collapsed": false
   },
   "outputs": [
    {
     "data": {
      "text/plain": [
       "(143, 32)"
      ]
     },
     "execution_count": 28,
     "metadata": {},
     "output_type": "execute_result"
    }
   ],
   "source": [
    "data.shape"
   ]
  },
  {
   "cell_type": "markdown",
   "metadata": {},
   "source": [
    "Find out more about the dataset attributes -- type types of the information in the dataset."
   ]
  },
  {
   "cell_type": "code",
   "execution_count": 29,
   "metadata": {
    "collapsed": false
   },
   "outputs": [
    {
     "name": "stdout",
     "output_type": "stream",
     "text": [
      "<class 'pandas.core.frame.DataFrame'>\n",
      "RangeIndex: 143 entries, 0 to 142\n",
      "Data columns (total 32 columns):\n",
      "Name            143 non-null object\n",
      "Team            143 non-null object\n",
      "Pos             143 non-null object\n",
      "Height          143 non-null int64\n",
      "Weight          142 non-null float64\n",
      "BMI             142 non-null float64\n",
      "Birth_Place     143 non-null object\n",
      "Birthdate       143 non-null object\n",
      "Age             143 non-null int64\n",
      "College         143 non-null object\n",
      "Experience      143 non-null object\n",
      "Games Played    143 non-null int64\n",
      "MIN             143 non-null int64\n",
      "FGM             143 non-null int64\n",
      "FGA             143 non-null int64\n",
      "FG%             143 non-null float64\n",
      "15:00           143 non-null int64\n",
      "3PA             143 non-null int64\n",
      "3P%             143 non-null float64\n",
      "FTM             143 non-null int64\n",
      "FTA             143 non-null int64\n",
      "FT%             143 non-null float64\n",
      "OREB            143 non-null int64\n",
      "DREB            143 non-null int64\n",
      "REB             143 non-null int64\n",
      "AST             143 non-null int64\n",
      "STL             143 non-null int64\n",
      "BLK             143 non-null int64\n",
      "TO              143 non-null int64\n",
      "PTS             143 non-null int64\n",
      "DD2             143 non-null int64\n",
      "TD3             143 non-null int64\n",
      "dtypes: float64(5), int64(20), object(7)\n",
      "memory usage: 35.8+ KB\n"
     ]
    }
   ],
   "source": [
    "data.info()"
   ]
  },
  {
   "cell_type": "markdown",
   "metadata": {},
   "source": [
    "See the names of all the columns in the data."
   ]
  },
  {
   "cell_type": "code",
   "execution_count": null,
   "metadata": {
    "collapsed": true
   },
   "outputs": [],
   "source": [
    "data.columns"
   ]
  },
  {
   "cell_type": "markdown",
   "metadata": {},
   "source": [
    "To get a small view of the data, type"
   ]
  },
  {
   "cell_type": "code",
   "execution_count": null,
   "metadata": {
    "collapsed": true
   },
   "outputs": [],
   "source": [
    "data.head()"
   ]
  },
  {
   "cell_type": "code",
   "execution_count": 8,
   "metadata": {
    "collapsed": false
   },
   "outputs": [],
   "source": [
    "data.tail()"
   ]
  },
  {
   "cell_type": "markdown",
   "metadata": {},
   "source": [
    "You can view the data in different ways."
   ]
  },
  {
   "cell_type": "code",
   "execution_count": null,
   "metadata": {
    "collapsed": true
   },
   "outputs": [],
   "source": [
    "data.transpose()"
   ]
  },
  {
   "cell_type": "markdown",
   "metadata": {},
   "source": [
    "You can also produce summary statistics of the data as follows:"
   ]
  },
  {
   "cell_type": "code",
   "execution_count": null,
   "metadata": {
    "collapsed": true
   },
   "outputs": [],
   "source": [
    "data.describe()"
   ]
  },
  {
   "cell_type": "markdown",
   "metadata": {},
   "source": [
    "## Creating dataframes"
   ]
  },
  {
   "cell_type": "markdown",
   "metadata": {},
   "source": [
    "### Selecting a column of the data"
   ]
  },
  {
   "cell_type": "markdown",
   "metadata": {},
   "source": [
    "You can select a single column from the dataframe by name. When we select the `College`, the function returns the index column along with the `College` column. "
   ]
  },
  {
   "cell_type": "code",
   "execution_count": 45,
   "metadata": {
    "collapsed": false
   },
   "outputs": [
    {
     "data": {
      "text/plain": [
       "Name\n",
       "Aerial Powers                    Michigan State\n",
       "Alana Beard                                Duke\n",
       "Alex Bentley                         Penn State\n",
       "Alex Montgomery                    Georgia Tech\n",
       "Alexis Jones                             Baylor\n",
       "Alexis Peterson                        Syracuse\n",
       "Alexis Prince                            Baylor\n",
       "Allie Quigley                            DePaul\n",
       "Allisha Gray                     South Carolina\n",
       "Allison Hightower                           LSU\n",
       "Alysha Clark                   Middle Tennessee\n",
       "Alyssa Thomas                          Maryland\n",
       "Amanda Zahui B.                       Minnesota\n",
       "Amber Harris                             Xavier\n",
       "Aneika Henry                            Florida\n",
       "Angel Robinson                    Arizona State\n",
       "Asia Taylor                          Louisville\n",
       "Bashaara Graves                       Tennessee\n",
       "Breanna Lewis                      Kansas State\n",
       "Breanna Stewart                     Connecticut\n",
       "Bria Hartley                        Connecticut\n",
       "Bria Holmes                       West Virginia\n",
       "Briann January                    Arizona State\n",
       "Brionna Jones                          Maryland\n",
       "Brittany Boyd                       UC Berkeley\n",
       "Brittney Griner                          Baylor\n",
       "Brittney Sykes                          Rutgers\n",
       "Camille Little                   North Carolina\n",
       "Candace Parker                        Tennessee\n",
       "Candice Dupree                           Temple\n",
       "                                   ...         \n",
       "Sancho Lyttle                           Houston\n",
       "Sandrine Gruda                           France\n",
       "Saniya Chong                        Connecticut\n",
       "Seimone Augustus                            LSU\n",
       "Sequoia Holmes                             UNLV\n",
       "Shatori Walker-Kimbrough               Maryland\n",
       "Shavonte Zellous                     Pittsburgh\n",
       "Shay Murphy                 Southern California\n",
       "Shekinna Stricklen                    Tennessee\n",
       "Shenise Johnson                      Miami (FL)\n",
       "Skylar Diggins-Smith                 Notre Dame\n",
       "Stefanie Dolson                     Connecticut\n",
       "Stephanie Talbot                      Australia\n",
       "Sue Bird                            Connecticut\n",
       "Sugar Rodgers                        Georgetown\n",
       "Sydney Colson                         Texas A&M\n",
       "Sydney Wiese                       Oregon State\n",
       "Sylvia Fowles                               LSU\n",
       "Tamera Young                          Tennessee\n",
       "Tayler Hill                          Ohio State\n",
       "Temi Fagbenle               Southern California\n",
       "Theresa Plaisance                           LSU\n",
       "Tianna Hawkins                         Maryland\n",
       "Tierra Ruffin-Pratt              North Carolina\n",
       "Tiffany Hayes                       Connecticut\n",
       "Tiffany Jackson                           Texas\n",
       "Tiffany Mitchell                 South Carolina\n",
       "Tina Charles                        Connecticut\n",
       "Yvonne Turner                          Nebraska\n",
       "Érika de Souza                           Brazil\n",
       "Name: College, dtype: object"
      ]
     },
     "execution_count": 45,
     "metadata": {},
     "output_type": "execute_result"
    }
   ],
   "source": [
    "data['College']"
   ]
  },
  {
   "cell_type": "code",
   "execution_count": 46,
   "metadata": {
    "collapsed": false
   },
   "outputs": [
    {
     "data": {
      "text/plain": [
       "pandas.core.series.Series"
      ]
     },
     "execution_count": 46,
     "metadata": {},
     "output_type": "execute_result"
    }
   ],
   "source": [
    "type(data['College'])"
   ]
  },
  {
   "cell_type": "markdown",
   "metadata": {},
   "source": [
    "Note the type of the column selected."
   ]
  },
  {
   "cell_type": "markdown",
   "metadata": {},
   "source": [
    "Suppose we want to see stats on a certain player. This is where the `index_col` argument gets used. Using the function `Dataframe.loc` (here, Dataframe should be replaced with the dataframe we created), we use the label 'Tiffany Jackson' to get all information on that particular player."
   ]
  },
  {
   "cell_type": "code",
   "execution_count": 39,
   "metadata": {
    "collapsed": false
   },
   "outputs": [
    {
     "data": {
      "text/plain": [
       "Name            Tiffany Jackson\n",
       "Team                         LA\n",
       "Pos                           F\n",
       "Height                      191\n",
       "Weight                       84\n",
       "BMI                     23.0257\n",
       "Birth_Place                  US\n",
       "Birthdate        April 26, 1985\n",
       "Age                          32\n",
       "College                   Texas\n",
       "Experience                    9\n",
       "Games Played                 22\n",
       "MIN                         127\n",
       "FGM                          12\n",
       "FGA                          25\n",
       "FG%                          48\n",
       "15:00                         0\n",
       "3PA                           1\n",
       "3P%                           0\n",
       "FTM                           4\n",
       "FTA                           6\n",
       "FT%                        66.7\n",
       "OREB                          5\n",
       "DREB                         18\n",
       "REB                          23\n",
       "AST                           3\n",
       "STL                           1\n",
       "BLK                           3\n",
       "TO                            8\n",
       "PTS                          28\n",
       "DD2                           0\n",
       "TD3                           0\n",
       "Name: Tiffany Jackson, dtype: object"
      ]
     },
     "execution_count": 39,
     "metadata": {},
     "output_type": "execute_result"
    }
   ],
   "source": [
    "data.loc['Tiffany Jackson', :]"
   ]
  },
  {
   "cell_type": "markdown",
   "metadata": {},
   "source": [
    "### Selecting a single data point"
   ]
  },
  {
   "cell_type": "markdown",
   "metadata": {},
   "source": [
    "We can use the `Dataframe.loc` function, which accepts a label, to select a single observation point from the dataframe."
   ]
  },
  {
   "cell_type": "code",
   "execution_count": 41,
   "metadata": {
    "collapsed": false
   },
   "outputs": [
    {
     "data": {
      "text/plain": [
       "'Texas'"
      ]
     },
     "execution_count": 41,
     "metadata": {},
     "output_type": "execute_result"
    }
   ],
   "source": [
    "data.loc['Tiffany Jackson','College'] # return Tiffany Jackson's college"
   ]
  },
  {
   "cell_type": "markdown",
   "metadata": {},
   "source": [
    "This is similar to using integer indices to select a single data point."
   ]
  },
  {
   "cell_type": "code",
   "execution_count": null,
   "metadata": {
    "collapsed": true
   },
   "outputs": [],
   "source": []
  },
  {
   "cell_type": "markdown",
   "metadata": {},
   "source": [
    "### Selecting a subset with slicing"
   ]
  },
  {
   "cell_type": "markdown",
   "metadata": {},
   "source": [
    "Suppose you are only interested in a subset of the data. players names from A to F. First sort the data according to the index column and find the information you're interested in."
   ]
  },
  {
   "cell_type": "code",
   "execution_count": 44,
   "metadata": {
    "collapsed": true
   },
   "outputs": [],
   "source": [
    "data = data.sort_index()"
   ]
  },
  {
   "cell_type": "code",
   "execution_count": 43,
   "metadata": {
    "collapsed": false
   },
   "outputs": [
    {
     "data": {
      "text/html": [
       "<div>\n",
       "<table border=\"1\" class=\"dataframe\">\n",
       "  <thead>\n",
       "    <tr style=\"text-align: right;\">\n",
       "      <th></th>\n",
       "      <th>Name</th>\n",
       "      <th>Team</th>\n",
       "      <th>Pos</th>\n",
       "      <th>Height</th>\n",
       "      <th>Weight</th>\n",
       "      <th>BMI</th>\n",
       "      <th>Birth_Place</th>\n",
       "      <th>Birthdate</th>\n",
       "      <th>Age</th>\n",
       "      <th>College</th>\n",
       "      <th>...</th>\n",
       "      <th>OREB</th>\n",
       "      <th>DREB</th>\n",
       "      <th>REB</th>\n",
       "      <th>AST</th>\n",
       "      <th>STL</th>\n",
       "      <th>BLK</th>\n",
       "      <th>TO</th>\n",
       "      <th>PTS</th>\n",
       "      <th>DD2</th>\n",
       "      <th>TD3</th>\n",
       "    </tr>\n",
       "    <tr>\n",
       "      <th>Name</th>\n",
       "      <th></th>\n",
       "      <th></th>\n",
       "      <th></th>\n",
       "      <th></th>\n",
       "      <th></th>\n",
       "      <th></th>\n",
       "      <th></th>\n",
       "      <th></th>\n",
       "      <th></th>\n",
       "      <th></th>\n",
       "      <th></th>\n",
       "      <th></th>\n",
       "      <th></th>\n",
       "      <th></th>\n",
       "      <th></th>\n",
       "      <th></th>\n",
       "      <th></th>\n",
       "      <th></th>\n",
       "      <th></th>\n",
       "      <th></th>\n",
       "      <th></th>\n",
       "    </tr>\n",
       "  </thead>\n",
       "  <tbody>\n",
       "    <tr>\n",
       "      <th>Aerial Powers</th>\n",
       "      <td>Aerial Powers</td>\n",
       "      <td>DAL</td>\n",
       "      <td>F</td>\n",
       "      <td>183</td>\n",
       "      <td>71.0</td>\n",
       "      <td>21.200991</td>\n",
       "      <td>US</td>\n",
       "      <td>January 17, 1994</td>\n",
       "      <td>23</td>\n",
       "      <td>Michigan State</td>\n",
       "      <td>...</td>\n",
       "      <td>6</td>\n",
       "      <td>22</td>\n",
       "      <td>28</td>\n",
       "      <td>12</td>\n",
       "      <td>3</td>\n",
       "      <td>6</td>\n",
       "      <td>12</td>\n",
       "      <td>93</td>\n",
       "      <td>0</td>\n",
       "      <td>0</td>\n",
       "    </tr>\n",
       "    <tr>\n",
       "      <th>Alana Beard</th>\n",
       "      <td>Alana Beard</td>\n",
       "      <td>LA</td>\n",
       "      <td>G/F</td>\n",
       "      <td>185</td>\n",
       "      <td>73.0</td>\n",
       "      <td>21.329438</td>\n",
       "      <td>US</td>\n",
       "      <td>May 14, 1982</td>\n",
       "      <td>35</td>\n",
       "      <td>Duke</td>\n",
       "      <td>...</td>\n",
       "      <td>19</td>\n",
       "      <td>82</td>\n",
       "      <td>101</td>\n",
       "      <td>72</td>\n",
       "      <td>63</td>\n",
       "      <td>13</td>\n",
       "      <td>40</td>\n",
       "      <td>217</td>\n",
       "      <td>0</td>\n",
       "      <td>0</td>\n",
       "    </tr>\n",
       "    <tr>\n",
       "      <th>Alex Bentley</th>\n",
       "      <td>Alex Bentley</td>\n",
       "      <td>CON</td>\n",
       "      <td>G</td>\n",
       "      <td>170</td>\n",
       "      <td>69.0</td>\n",
       "      <td>23.875433</td>\n",
       "      <td>US</td>\n",
       "      <td>October 27, 1990</td>\n",
       "      <td>26</td>\n",
       "      <td>Penn State</td>\n",
       "      <td>...</td>\n",
       "      <td>4</td>\n",
       "      <td>36</td>\n",
       "      <td>40</td>\n",
       "      <td>78</td>\n",
       "      <td>22</td>\n",
       "      <td>3</td>\n",
       "      <td>24</td>\n",
       "      <td>218</td>\n",
       "      <td>0</td>\n",
       "      <td>0</td>\n",
       "    </tr>\n",
       "    <tr>\n",
       "      <th>Alex Montgomery</th>\n",
       "      <td>Alex Montgomery</td>\n",
       "      <td>SAN</td>\n",
       "      <td>G/F</td>\n",
       "      <td>185</td>\n",
       "      <td>84.0</td>\n",
       "      <td>24.543462</td>\n",
       "      <td>US</td>\n",
       "      <td>December 11, 1988</td>\n",
       "      <td>28</td>\n",
       "      <td>Georgia Tech</td>\n",
       "      <td>...</td>\n",
       "      <td>35</td>\n",
       "      <td>134</td>\n",
       "      <td>169</td>\n",
       "      <td>65</td>\n",
       "      <td>20</td>\n",
       "      <td>10</td>\n",
       "      <td>38</td>\n",
       "      <td>188</td>\n",
       "      <td>2</td>\n",
       "      <td>0</td>\n",
       "    </tr>\n",
       "    <tr>\n",
       "      <th>Alexis Jones</th>\n",
       "      <td>Alexis Jones</td>\n",
       "      <td>MIN</td>\n",
       "      <td>G</td>\n",
       "      <td>175</td>\n",
       "      <td>78.0</td>\n",
       "      <td>25.469388</td>\n",
       "      <td>US</td>\n",
       "      <td>August 5, 1994</td>\n",
       "      <td>23</td>\n",
       "      <td>Baylor</td>\n",
       "      <td>...</td>\n",
       "      <td>3</td>\n",
       "      <td>9</td>\n",
       "      <td>12</td>\n",
       "      <td>12</td>\n",
       "      <td>7</td>\n",
       "      <td>0</td>\n",
       "      <td>14</td>\n",
       "      <td>50</td>\n",
       "      <td>0</td>\n",
       "      <td>0</td>\n",
       "    </tr>\n",
       "  </tbody>\n",
       "</table>\n",
       "<p>5 rows × 32 columns</p>\n",
       "</div>"
      ],
      "text/plain": [
       "                            Name Team  Pos  Height  Weight        BMI  \\\n",
       "Name                                                                    \n",
       "Aerial Powers      Aerial Powers  DAL    F     183    71.0  21.200991   \n",
       "Alana Beard          Alana Beard   LA  G/F     185    73.0  21.329438   \n",
       "Alex Bentley        Alex Bentley  CON    G     170    69.0  23.875433   \n",
       "Alex Montgomery  Alex Montgomery  SAN  G/F     185    84.0  24.543462   \n",
       "Alexis Jones        Alexis Jones  MIN    G     175    78.0  25.469388   \n",
       "\n",
       "                Birth_Place          Birthdate  Age         College ...  OREB  \\\n",
       "Name                                                                ...         \n",
       "Aerial Powers            US   January 17, 1994   23  Michigan State ...     6   \n",
       "Alana Beard              US       May 14, 1982   35            Duke ...    19   \n",
       "Alex Bentley             US   October 27, 1990   26      Penn State ...     4   \n",
       "Alex Montgomery          US  December 11, 1988   28    Georgia Tech ...    35   \n",
       "Alexis Jones             US     August 5, 1994   23          Baylor ...     3   \n",
       "\n",
       "                 DREB  REB  AST  STL  BLK  TO  PTS  DD2  TD3  \n",
       "Name                                                          \n",
       "Aerial Powers      22   28   12    3    6  12   93    0    0  \n",
       "Alana Beard        82  101   72   63   13  40  217    0    0  \n",
       "Alex Bentley       36   40   78   22    3  24  218    0    0  \n",
       "Alex Montgomery   134  169   65   20   10  38  188    2    0  \n",
       "Alexis Jones        9   12   12    7    0  14   50    0    0  \n",
       "\n",
       "[5 rows x 32 columns]"
      ]
     },
     "execution_count": 43,
     "metadata": {},
     "output_type": "execute_result"
    }
   ],
   "source": [
    "data.head()"
   ]
  },
  {
   "cell_type": "code",
   "execution_count": 48,
   "metadata": {
    "collapsed": false
   },
   "outputs": [
    {
     "data": {
      "text/html": [
       "<div>\n",
       "<table border=\"1\" class=\"dataframe\">\n",
       "  <thead>\n",
       "    <tr style=\"text-align: right;\">\n",
       "      <th></th>\n",
       "      <th>Team</th>\n",
       "      <th>Pos</th>\n",
       "      <th>Height</th>\n",
       "      <th>Weight</th>\n",
       "      <th>BMI</th>\n",
       "      <th>Birth_Place</th>\n",
       "      <th>Birthdate</th>\n",
       "      <th>Age</th>\n",
       "      <th>College</th>\n",
       "    </tr>\n",
       "    <tr>\n",
       "      <th>Name</th>\n",
       "      <th></th>\n",
       "      <th></th>\n",
       "      <th></th>\n",
       "      <th></th>\n",
       "      <th></th>\n",
       "      <th></th>\n",
       "      <th></th>\n",
       "      <th></th>\n",
       "      <th></th>\n",
       "    </tr>\n",
       "  </thead>\n",
       "  <tbody>\n",
       "    <tr>\n",
       "      <th>Aerial Powers</th>\n",
       "      <td>DAL</td>\n",
       "      <td>F</td>\n",
       "      <td>183</td>\n",
       "      <td>71.0</td>\n",
       "      <td>21.200991</td>\n",
       "      <td>US</td>\n",
       "      <td>January 17, 1994</td>\n",
       "      <td>23</td>\n",
       "      <td>Michigan State</td>\n",
       "    </tr>\n",
       "    <tr>\n",
       "      <th>Alana Beard</th>\n",
       "      <td>LA</td>\n",
       "      <td>G/F</td>\n",
       "      <td>185</td>\n",
       "      <td>73.0</td>\n",
       "      <td>21.329438</td>\n",
       "      <td>US</td>\n",
       "      <td>May 14, 1982</td>\n",
       "      <td>35</td>\n",
       "      <td>Duke</td>\n",
       "    </tr>\n",
       "    <tr>\n",
       "      <th>Alex Bentley</th>\n",
       "      <td>CON</td>\n",
       "      <td>G</td>\n",
       "      <td>170</td>\n",
       "      <td>69.0</td>\n",
       "      <td>23.875433</td>\n",
       "      <td>US</td>\n",
       "      <td>October 27, 1990</td>\n",
       "      <td>26</td>\n",
       "      <td>Penn State</td>\n",
       "    </tr>\n",
       "    <tr>\n",
       "      <th>Alex Montgomery</th>\n",
       "      <td>SAN</td>\n",
       "      <td>G/F</td>\n",
       "      <td>185</td>\n",
       "      <td>84.0</td>\n",
       "      <td>24.543462</td>\n",
       "      <td>US</td>\n",
       "      <td>December 11, 1988</td>\n",
       "      <td>28</td>\n",
       "      <td>Georgia Tech</td>\n",
       "    </tr>\n",
       "    <tr>\n",
       "      <th>Alexis Jones</th>\n",
       "      <td>MIN</td>\n",
       "      <td>G</td>\n",
       "      <td>175</td>\n",
       "      <td>78.0</td>\n",
       "      <td>25.469388</td>\n",
       "      <td>US</td>\n",
       "      <td>August 5, 1994</td>\n",
       "      <td>23</td>\n",
       "      <td>Baylor</td>\n",
       "    </tr>\n",
       "    <tr>\n",
       "      <th>Alexis Peterson</th>\n",
       "      <td>SEA</td>\n",
       "      <td>G</td>\n",
       "      <td>170</td>\n",
       "      <td>63.0</td>\n",
       "      <td>21.799308</td>\n",
       "      <td>US</td>\n",
       "      <td>June 20, 1995</td>\n",
       "      <td>22</td>\n",
       "      <td>Syracuse</td>\n",
       "    </tr>\n",
       "    <tr>\n",
       "      <th>Alexis Prince</th>\n",
       "      <td>PHO</td>\n",
       "      <td>G</td>\n",
       "      <td>188</td>\n",
       "      <td>81.0</td>\n",
       "      <td>22.917610</td>\n",
       "      <td>US</td>\n",
       "      <td>February 5, 1994</td>\n",
       "      <td>23</td>\n",
       "      <td>Baylor</td>\n",
       "    </tr>\n",
       "    <tr>\n",
       "      <th>Allie Quigley</th>\n",
       "      <td>CHI</td>\n",
       "      <td>G</td>\n",
       "      <td>178</td>\n",
       "      <td>64.0</td>\n",
       "      <td>20.199470</td>\n",
       "      <td>US</td>\n",
       "      <td>June 20, 1986</td>\n",
       "      <td>31</td>\n",
       "      <td>DePaul</td>\n",
       "    </tr>\n",
       "    <tr>\n",
       "      <th>Allisha Gray</th>\n",
       "      <td>DAL</td>\n",
       "      <td>G</td>\n",
       "      <td>185</td>\n",
       "      <td>76.0</td>\n",
       "      <td>22.205990</td>\n",
       "      <td>US</td>\n",
       "      <td>October 20, 1992</td>\n",
       "      <td>24</td>\n",
       "      <td>South Carolina</td>\n",
       "    </tr>\n",
       "    <tr>\n",
       "      <th>Allison Hightower</th>\n",
       "      <td>WAS</td>\n",
       "      <td>G</td>\n",
       "      <td>178</td>\n",
       "      <td>77.0</td>\n",
       "      <td>24.302487</td>\n",
       "      <td>US</td>\n",
       "      <td>June 4, 1988</td>\n",
       "      <td>29</td>\n",
       "      <td>LSU</td>\n",
       "    </tr>\n",
       "    <tr>\n",
       "      <th>Alysha Clark</th>\n",
       "      <td>SEA</td>\n",
       "      <td>F</td>\n",
       "      <td>180</td>\n",
       "      <td>76.0</td>\n",
       "      <td>23.456790</td>\n",
       "      <td>US</td>\n",
       "      <td>July 7, 1987</td>\n",
       "      <td>30</td>\n",
       "      <td>Middle Tennessee</td>\n",
       "    </tr>\n",
       "    <tr>\n",
       "      <th>Alyssa Thomas</th>\n",
       "      <td>CON</td>\n",
       "      <td>F</td>\n",
       "      <td>188</td>\n",
       "      <td>84.0</td>\n",
       "      <td>23.766410</td>\n",
       "      <td>US</td>\n",
       "      <td>December 4, 1992</td>\n",
       "      <td>24</td>\n",
       "      <td>Maryland</td>\n",
       "    </tr>\n",
       "    <tr>\n",
       "      <th>Amanda Zahui B.</th>\n",
       "      <td>NY</td>\n",
       "      <td>C</td>\n",
       "      <td>196</td>\n",
       "      <td>113.0</td>\n",
       "      <td>29.414827</td>\n",
       "      <td>SE</td>\n",
       "      <td>August 9, 1993</td>\n",
       "      <td>24</td>\n",
       "      <td>Minnesota</td>\n",
       "    </tr>\n",
       "    <tr>\n",
       "      <th>Amber Harris</th>\n",
       "      <td>CHI</td>\n",
       "      <td>F</td>\n",
       "      <td>196</td>\n",
       "      <td>88.0</td>\n",
       "      <td>22.907122</td>\n",
       "      <td>US</td>\n",
       "      <td>January 16, 1988</td>\n",
       "      <td>29</td>\n",
       "      <td>Xavier</td>\n",
       "    </tr>\n",
       "    <tr>\n",
       "      <th>Aneika Henry</th>\n",
       "      <td>ATL</td>\n",
       "      <td>F/C</td>\n",
       "      <td>193</td>\n",
       "      <td>87.0</td>\n",
       "      <td>23.356332</td>\n",
       "      <td>JM</td>\n",
       "      <td>February 13, 1986</td>\n",
       "      <td>31</td>\n",
       "      <td>Florida</td>\n",
       "    </tr>\n",
       "    <tr>\n",
       "      <th>Angel Robinson</th>\n",
       "      <td>PHO</td>\n",
       "      <td>F/C</td>\n",
       "      <td>198</td>\n",
       "      <td>88.0</td>\n",
       "      <td>22.446689</td>\n",
       "      <td>US</td>\n",
       "      <td>August 30, 1995</td>\n",
       "      <td>21</td>\n",
       "      <td>Arizona State</td>\n",
       "    </tr>\n",
       "    <tr>\n",
       "      <th>Asia Taylor</th>\n",
       "      <td>WAS</td>\n",
       "      <td>F</td>\n",
       "      <td>185</td>\n",
       "      <td>76.0</td>\n",
       "      <td>22.205990</td>\n",
       "      <td>US</td>\n",
       "      <td>August 22, 1991</td>\n",
       "      <td>26</td>\n",
       "      <td>Louisville</td>\n",
       "    </tr>\n",
       "    <tr>\n",
       "      <th>Bashaara Graves</th>\n",
       "      <td>CHI</td>\n",
       "      <td>F</td>\n",
       "      <td>188</td>\n",
       "      <td>91.0</td>\n",
       "      <td>25.746944</td>\n",
       "      <td>US</td>\n",
       "      <td>March 17, 1994</td>\n",
       "      <td>23</td>\n",
       "      <td>Tennessee</td>\n",
       "    </tr>\n",
       "    <tr>\n",
       "      <th>Breanna Lewis</th>\n",
       "      <td>DAL</td>\n",
       "      <td>C</td>\n",
       "      <td>196</td>\n",
       "      <td>93.0</td>\n",
       "      <td>24.208663</td>\n",
       "      <td>US</td>\n",
       "      <td>June 22, 1994</td>\n",
       "      <td>23</td>\n",
       "      <td>Kansas State</td>\n",
       "    </tr>\n",
       "    <tr>\n",
       "      <th>Breanna Stewart</th>\n",
       "      <td>SEA</td>\n",
       "      <td>F/C</td>\n",
       "      <td>193</td>\n",
       "      <td>77.0</td>\n",
       "      <td>20.671696</td>\n",
       "      <td>US</td>\n",
       "      <td>August 27, 1994</td>\n",
       "      <td>22</td>\n",
       "      <td>Connecticut</td>\n",
       "    </tr>\n",
       "    <tr>\n",
       "      <th>Bria Hartley</th>\n",
       "      <td>NY</td>\n",
       "      <td>G</td>\n",
       "      <td>173</td>\n",
       "      <td>66.0</td>\n",
       "      <td>22.052190</td>\n",
       "      <td>US</td>\n",
       "      <td>September 30, 1992</td>\n",
       "      <td>24</td>\n",
       "      <td>Connecticut</td>\n",
       "    </tr>\n",
       "    <tr>\n",
       "      <th>Bria Holmes</th>\n",
       "      <td>ATL</td>\n",
       "      <td>G</td>\n",
       "      <td>185</td>\n",
       "      <td>77.0</td>\n",
       "      <td>22.498174</td>\n",
       "      <td>US</td>\n",
       "      <td>April 19, 1994</td>\n",
       "      <td>23</td>\n",
       "      <td>West Virginia</td>\n",
       "    </tr>\n",
       "    <tr>\n",
       "      <th>Briann January</th>\n",
       "      <td>IND</td>\n",
       "      <td>G</td>\n",
       "      <td>173</td>\n",
       "      <td>65.0</td>\n",
       "      <td>21.718066</td>\n",
       "      <td>US</td>\n",
       "      <td>November 1, 1987</td>\n",
       "      <td>29</td>\n",
       "      <td>Arizona State</td>\n",
       "    </tr>\n",
       "    <tr>\n",
       "      <th>Brionna Jones</th>\n",
       "      <td>CON</td>\n",
       "      <td>F</td>\n",
       "      <td>191</td>\n",
       "      <td>104.0</td>\n",
       "      <td>28.507990</td>\n",
       "      <td>US</td>\n",
       "      <td>December 18, 1995</td>\n",
       "      <td>21</td>\n",
       "      <td>Maryland</td>\n",
       "    </tr>\n",
       "    <tr>\n",
       "      <th>Brittany Boyd</th>\n",
       "      <td>NY</td>\n",
       "      <td>G</td>\n",
       "      <td>175</td>\n",
       "      <td>71.0</td>\n",
       "      <td>23.183673</td>\n",
       "      <td>US</td>\n",
       "      <td>November 6, 1993</td>\n",
       "      <td>23</td>\n",
       "      <td>UC Berkeley</td>\n",
       "    </tr>\n",
       "    <tr>\n",
       "      <th>Brittney Griner</th>\n",
       "      <td>PHO</td>\n",
       "      <td>C</td>\n",
       "      <td>206</td>\n",
       "      <td>93.0</td>\n",
       "      <td>21.915355</td>\n",
       "      <td>US</td>\n",
       "      <td>October 18, 1990</td>\n",
       "      <td>26</td>\n",
       "      <td>Baylor</td>\n",
       "    </tr>\n",
       "    <tr>\n",
       "      <th>Brittney Sykes</th>\n",
       "      <td>ATL</td>\n",
       "      <td>G</td>\n",
       "      <td>175</td>\n",
       "      <td>66.0</td>\n",
       "      <td>21.551020</td>\n",
       "      <td>US</td>\n",
       "      <td>July 2, 1994</td>\n",
       "      <td>23</td>\n",
       "      <td>Rutgers</td>\n",
       "    </tr>\n",
       "    <tr>\n",
       "      <th>Camille Little</th>\n",
       "      <td>PHO</td>\n",
       "      <td>F</td>\n",
       "      <td>188</td>\n",
       "      <td>82.0</td>\n",
       "      <td>23.200543</td>\n",
       "      <td>US</td>\n",
       "      <td>January 18, 1985</td>\n",
       "      <td>32</td>\n",
       "      <td>North Carolina</td>\n",
       "    </tr>\n",
       "    <tr>\n",
       "      <th>Candace Parker</th>\n",
       "      <td>LA</td>\n",
       "      <td>F/C</td>\n",
       "      <td>193</td>\n",
       "      <td>79.0</td>\n",
       "      <td>21.208623</td>\n",
       "      <td>US</td>\n",
       "      <td>April 19, 1986</td>\n",
       "      <td>31</td>\n",
       "      <td>Tennessee</td>\n",
       "    </tr>\n",
       "    <tr>\n",
       "      <th>Candice Dupree</th>\n",
       "      <td>IND</td>\n",
       "      <td>F</td>\n",
       "      <td>188</td>\n",
       "      <td>81.0</td>\n",
       "      <td>22.917610</td>\n",
       "      <td>US</td>\n",
       "      <td>February 25, 1984</td>\n",
       "      <td>33</td>\n",
       "      <td>Temple</td>\n",
       "    </tr>\n",
       "    <tr>\n",
       "      <th>...</th>\n",
       "      <td>...</td>\n",
       "      <td>...</td>\n",
       "      <td>...</td>\n",
       "      <td>...</td>\n",
       "      <td>...</td>\n",
       "      <td>...</td>\n",
       "      <td>...</td>\n",
       "      <td>...</td>\n",
       "      <td>...</td>\n",
       "    </tr>\n",
       "    <tr>\n",
       "      <th>Natalie Achonwa</th>\n",
       "      <td>IND</td>\n",
       "      <td>C</td>\n",
       "      <td>193</td>\n",
       "      <td>83.0</td>\n",
       "      <td>22.282477</td>\n",
       "      <td>CA</td>\n",
       "      <td>November 22, 1992</td>\n",
       "      <td>24</td>\n",
       "      <td>Notre Dame</td>\n",
       "    </tr>\n",
       "    <tr>\n",
       "      <th>Natasha Cloud</th>\n",
       "      <td>WAS</td>\n",
       "      <td>G</td>\n",
       "      <td>183</td>\n",
       "      <td>73.0</td>\n",
       "      <td>21.798202</td>\n",
       "      <td>US</td>\n",
       "      <td>February 22, 1992</td>\n",
       "      <td>25</td>\n",
       "      <td>Saint Joseph's</td>\n",
       "    </tr>\n",
       "    <tr>\n",
       "      <th>Natasha Howard</th>\n",
       "      <td>MIN</td>\n",
       "      <td>F</td>\n",
       "      <td>188</td>\n",
       "      <td>75.0</td>\n",
       "      <td>21.220009</td>\n",
       "      <td>US</td>\n",
       "      <td>February 9, 1991</td>\n",
       "      <td>26</td>\n",
       "      <td>Florida State</td>\n",
       "    </tr>\n",
       "    <tr>\n",
       "      <th>Nayo Raincock-Ekunwe</th>\n",
       "      <td>NY</td>\n",
       "      <td>F/C</td>\n",
       "      <td>188</td>\n",
       "      <td>79.0</td>\n",
       "      <td>22.351743</td>\n",
       "      <td>CA</td>\n",
       "      <td>August 29, 1991</td>\n",
       "      <td>25</td>\n",
       "      <td>Simon Fraser</td>\n",
       "    </tr>\n",
       "    <tr>\n",
       "      <th>Nia Coffey</th>\n",
       "      <td>SAN</td>\n",
       "      <td>F</td>\n",
       "      <td>185</td>\n",
       "      <td>77.0</td>\n",
       "      <td>22.498174</td>\n",
       "      <td>US</td>\n",
       "      <td>May 21, 1995</td>\n",
       "      <td>22</td>\n",
       "      <td>Northwestern</td>\n",
       "    </tr>\n",
       "    <tr>\n",
       "      <th>Nneka Ogwumike</th>\n",
       "      <td>LA</td>\n",
       "      <td>F</td>\n",
       "      <td>188</td>\n",
       "      <td>79.0</td>\n",
       "      <td>22.351743</td>\n",
       "      <td>US</td>\n",
       "      <td>February 7, 1990</td>\n",
       "      <td>27</td>\n",
       "      <td>Stanford</td>\n",
       "    </tr>\n",
       "    <tr>\n",
       "      <th>Noelle Quinn</th>\n",
       "      <td>SEA</td>\n",
       "      <td>G</td>\n",
       "      <td>183</td>\n",
       "      <td>81.0</td>\n",
       "      <td>24.187046</td>\n",
       "      <td>US</td>\n",
       "      <td>March 1, 1985</td>\n",
       "      <td>32</td>\n",
       "      <td>UCLA</td>\n",
       "    </tr>\n",
       "    <tr>\n",
       "      <th>Odyssey Sims</th>\n",
       "      <td>LA</td>\n",
       "      <td>G</td>\n",
       "      <td>173</td>\n",
       "      <td>73.0</td>\n",
       "      <td>24.391059</td>\n",
       "      <td>US</td>\n",
       "      <td>July 13, 1992</td>\n",
       "      <td>25</td>\n",
       "      <td>Baylor</td>\n",
       "    </tr>\n",
       "    <tr>\n",
       "      <th>Plenette Pierson</th>\n",
       "      <td>MIN</td>\n",
       "      <td>F/C</td>\n",
       "      <td>188</td>\n",
       "      <td>88.0</td>\n",
       "      <td>24.898144</td>\n",
       "      <td>US</td>\n",
       "      <td>August 31, 1981</td>\n",
       "      <td>35</td>\n",
       "      <td>Texas Tech</td>\n",
       "    </tr>\n",
       "    <tr>\n",
       "      <th>Rachel Banham</th>\n",
       "      <td>CON</td>\n",
       "      <td>G</td>\n",
       "      <td>175</td>\n",
       "      <td>76.0</td>\n",
       "      <td>24.816327</td>\n",
       "      <td>US</td>\n",
       "      <td>July 15, 1993</td>\n",
       "      <td>24</td>\n",
       "      <td>Minnesota</td>\n",
       "    </tr>\n",
       "    <tr>\n",
       "      <th>Ramu Tokashiki</th>\n",
       "      <td>SEA</td>\n",
       "      <td>F</td>\n",
       "      <td>193</td>\n",
       "      <td>80.0</td>\n",
       "      <td>21.477087</td>\n",
       "      <td>JP</td>\n",
       "      <td>November 6, 1991</td>\n",
       "      <td>25</td>\n",
       "      <td>Japan</td>\n",
       "    </tr>\n",
       "    <tr>\n",
       "      <th>Rebecca Allen</th>\n",
       "      <td>NY</td>\n",
       "      <td>G/F</td>\n",
       "      <td>188</td>\n",
       "      <td>74.0</td>\n",
       "      <td>20.937076</td>\n",
       "      <td>AU</td>\n",
       "      <td>June 11, 1992</td>\n",
       "      <td>25</td>\n",
       "      <td>Australia</td>\n",
       "    </tr>\n",
       "    <tr>\n",
       "      <th>Rebekkah Brunson</th>\n",
       "      <td>MIN</td>\n",
       "      <td>F</td>\n",
       "      <td>188</td>\n",
       "      <td>84.0</td>\n",
       "      <td>23.766410</td>\n",
       "      <td>US</td>\n",
       "      <td>November 12, 1981</td>\n",
       "      <td>35</td>\n",
       "      <td>Georgetown</td>\n",
       "    </tr>\n",
       "    <tr>\n",
       "      <th>Renee Montgomery</th>\n",
       "      <td>MIN</td>\n",
       "      <td>G</td>\n",
       "      <td>170</td>\n",
       "      <td>63.0</td>\n",
       "      <td>21.799308</td>\n",
       "      <td>US</td>\n",
       "      <td>February 12, 1986</td>\n",
       "      <td>31</td>\n",
       "      <td>Connecticut</td>\n",
       "    </tr>\n",
       "    <tr>\n",
       "      <th>Riquna Williams</th>\n",
       "      <td>LA</td>\n",
       "      <td>G</td>\n",
       "      <td>170</td>\n",
       "      <td>75.0</td>\n",
       "      <td>25.951557</td>\n",
       "      <td>US</td>\n",
       "      <td>May 28, 1990</td>\n",
       "      <td>27</td>\n",
       "      <td>Miami (FL)</td>\n",
       "    </tr>\n",
       "    <tr>\n",
       "      <th>Sami Whitcomb</th>\n",
       "      <td>SEA</td>\n",
       "      <td>G</td>\n",
       "      <td>178</td>\n",
       "      <td>66.0</td>\n",
       "      <td>20.830703</td>\n",
       "      <td>US</td>\n",
       "      <td>July 20, 1988</td>\n",
       "      <td>29</td>\n",
       "      <td>Washington</td>\n",
       "    </tr>\n",
       "    <tr>\n",
       "      <th>Sancho Lyttle</th>\n",
       "      <td>ATL</td>\n",
       "      <td>F</td>\n",
       "      <td>193</td>\n",
       "      <td>79.0</td>\n",
       "      <td>21.208623</td>\n",
       "      <td>ES</td>\n",
       "      <td>September 20, 1983</td>\n",
       "      <td>33</td>\n",
       "      <td>Houston</td>\n",
       "    </tr>\n",
       "    <tr>\n",
       "      <th>Sandrine Gruda</th>\n",
       "      <td>LA</td>\n",
       "      <td>F/C</td>\n",
       "      <td>193</td>\n",
       "      <td>84.0</td>\n",
       "      <td>22.550941</td>\n",
       "      <td>FR</td>\n",
       "      <td>June 25, 1987</td>\n",
       "      <td>30</td>\n",
       "      <td>France</td>\n",
       "    </tr>\n",
       "    <tr>\n",
       "      <th>Saniya Chong</th>\n",
       "      <td>DAL</td>\n",
       "      <td>G</td>\n",
       "      <td>173</td>\n",
       "      <td>64.0</td>\n",
       "      <td>21.383942</td>\n",
       "      <td>US</td>\n",
       "      <td>June 27, 1994</td>\n",
       "      <td>23</td>\n",
       "      <td>Connecticut</td>\n",
       "    </tr>\n",
       "    <tr>\n",
       "      <th>Seimone Augustus</th>\n",
       "      <td>MIN</td>\n",
       "      <td>G/F</td>\n",
       "      <td>183</td>\n",
       "      <td>77.0</td>\n",
       "      <td>22.992624</td>\n",
       "      <td>US</td>\n",
       "      <td>April 30, 1984</td>\n",
       "      <td>33</td>\n",
       "      <td>LSU</td>\n",
       "    </tr>\n",
       "    <tr>\n",
       "      <th>Sequoia Holmes</th>\n",
       "      <td>SAN</td>\n",
       "      <td>G</td>\n",
       "      <td>185</td>\n",
       "      <td>70.0</td>\n",
       "      <td>20.452885</td>\n",
       "      <td>US</td>\n",
       "      <td>June 13, 1986</td>\n",
       "      <td>31</td>\n",
       "      <td>UNLV</td>\n",
       "    </tr>\n",
       "    <tr>\n",
       "      <th>Shatori Walker-Kimbrough</th>\n",
       "      <td>WAS</td>\n",
       "      <td>G</td>\n",
       "      <td>180</td>\n",
       "      <td>64.0</td>\n",
       "      <td>19.753086</td>\n",
       "      <td>US</td>\n",
       "      <td>May 18, 1995</td>\n",
       "      <td>22</td>\n",
       "      <td>Maryland</td>\n",
       "    </tr>\n",
       "    <tr>\n",
       "      <th>Shavonte Zellous</th>\n",
       "      <td>NY</td>\n",
       "      <td>G</td>\n",
       "      <td>178</td>\n",
       "      <td>85.0</td>\n",
       "      <td>26.827421</td>\n",
       "      <td>US</td>\n",
       "      <td>August 28, 1986</td>\n",
       "      <td>30</td>\n",
       "      <td>Pittsburgh</td>\n",
       "    </tr>\n",
       "    <tr>\n",
       "      <th>Shay Murphy</th>\n",
       "      <td>SAN</td>\n",
       "      <td>G</td>\n",
       "      <td>180</td>\n",
       "      <td>74.0</td>\n",
       "      <td>22.839506</td>\n",
       "      <td>US</td>\n",
       "      <td>April 15, 1985</td>\n",
       "      <td>32</td>\n",
       "      <td>Southern California</td>\n",
       "    </tr>\n",
       "    <tr>\n",
       "      <th>Shekinna Stricklen</th>\n",
       "      <td>CON</td>\n",
       "      <td>G/F</td>\n",
       "      <td>188</td>\n",
       "      <td>81.0</td>\n",
       "      <td>22.917610</td>\n",
       "      <td>US</td>\n",
       "      <td>July 30, 1990</td>\n",
       "      <td>27</td>\n",
       "      <td>Tennessee</td>\n",
       "    </tr>\n",
       "    <tr>\n",
       "      <th>Shenise Johnson</th>\n",
       "      <td>IND</td>\n",
       "      <td>G</td>\n",
       "      <td>180</td>\n",
       "      <td>78.0</td>\n",
       "      <td>24.074074</td>\n",
       "      <td>US</td>\n",
       "      <td>September 12, 1990</td>\n",
       "      <td>26</td>\n",
       "      <td>Miami (FL)</td>\n",
       "    </tr>\n",
       "    <tr>\n",
       "      <th>Skylar Diggins-Smith</th>\n",
       "      <td>DAL</td>\n",
       "      <td>G</td>\n",
       "      <td>175</td>\n",
       "      <td>66.0</td>\n",
       "      <td>21.551020</td>\n",
       "      <td>US</td>\n",
       "      <td>February 8, 1990</td>\n",
       "      <td>27</td>\n",
       "      <td>Notre Dame</td>\n",
       "    </tr>\n",
       "    <tr>\n",
       "      <th>Stefanie Dolson</th>\n",
       "      <td>CHI</td>\n",
       "      <td>C</td>\n",
       "      <td>196</td>\n",
       "      <td>97.0</td>\n",
       "      <td>25.249896</td>\n",
       "      <td>US</td>\n",
       "      <td>August 1, 1992</td>\n",
       "      <td>25</td>\n",
       "      <td>Connecticut</td>\n",
       "    </tr>\n",
       "    <tr>\n",
       "      <th>Stephanie Talbot</th>\n",
       "      <td>PHO</td>\n",
       "      <td>G</td>\n",
       "      <td>185</td>\n",
       "      <td>87.0</td>\n",
       "      <td>25.420015</td>\n",
       "      <td>AU</td>\n",
       "      <td>December 20, 1990</td>\n",
       "      <td>26</td>\n",
       "      <td>Australia</td>\n",
       "    </tr>\n",
       "    <tr>\n",
       "      <th>Sue Bird</th>\n",
       "      <td>SEA</td>\n",
       "      <td>G</td>\n",
       "      <td>175</td>\n",
       "      <td>68.0</td>\n",
       "      <td>22.204082</td>\n",
       "      <td>US</td>\n",
       "      <td>October 16, 1980</td>\n",
       "      <td>36</td>\n",
       "      <td>Connecticut</td>\n",
       "    </tr>\n",
       "  </tbody>\n",
       "</table>\n",
       "<p>127 rows × 9 columns</p>\n",
       "</div>"
      ],
      "text/plain": [
       "                         Team  Pos  Height  Weight        BMI Birth_Place  \\\n",
       "Name                                                                        \n",
       "Aerial Powers             DAL    F     183    71.0  21.200991          US   \n",
       "Alana Beard                LA  G/F     185    73.0  21.329438          US   \n",
       "Alex Bentley              CON    G     170    69.0  23.875433          US   \n",
       "Alex Montgomery           SAN  G/F     185    84.0  24.543462          US   \n",
       "Alexis Jones              MIN    G     175    78.0  25.469388          US   \n",
       "Alexis Peterson           SEA    G     170    63.0  21.799308          US   \n",
       "Alexis Prince             PHO    G     188    81.0  22.917610          US   \n",
       "Allie Quigley             CHI    G     178    64.0  20.199470          US   \n",
       "Allisha Gray              DAL    G     185    76.0  22.205990          US   \n",
       "Allison Hightower         WAS    G     178    77.0  24.302487          US   \n",
       "Alysha Clark              SEA    F     180    76.0  23.456790          US   \n",
       "Alyssa Thomas             CON    F     188    84.0  23.766410          US   \n",
       "Amanda Zahui B.            NY    C     196   113.0  29.414827          SE   \n",
       "Amber Harris              CHI    F     196    88.0  22.907122          US   \n",
       "Aneika Henry              ATL  F/C     193    87.0  23.356332          JM   \n",
       "Angel Robinson            PHO  F/C     198    88.0  22.446689          US   \n",
       "Asia Taylor               WAS    F     185    76.0  22.205990          US   \n",
       "Bashaara Graves           CHI    F     188    91.0  25.746944          US   \n",
       "Breanna Lewis             DAL    C     196    93.0  24.208663          US   \n",
       "Breanna Stewart           SEA  F/C     193    77.0  20.671696          US   \n",
       "Bria Hartley               NY    G     173    66.0  22.052190          US   \n",
       "Bria Holmes               ATL    G     185    77.0  22.498174          US   \n",
       "Briann January            IND    G     173    65.0  21.718066          US   \n",
       "Brionna Jones             CON    F     191   104.0  28.507990          US   \n",
       "Brittany Boyd              NY    G     175    71.0  23.183673          US   \n",
       "Brittney Griner           PHO    C     206    93.0  21.915355          US   \n",
       "Brittney Sykes            ATL    G     175    66.0  21.551020          US   \n",
       "Camille Little            PHO    F     188    82.0  23.200543          US   \n",
       "Candace Parker             LA  F/C     193    79.0  21.208623          US   \n",
       "Candice Dupree            IND    F     188    81.0  22.917610          US   \n",
       "...                       ...  ...     ...     ...        ...         ...   \n",
       "Natalie Achonwa           IND    C     193    83.0  22.282477          CA   \n",
       "Natasha Cloud             WAS    G     183    73.0  21.798202          US   \n",
       "Natasha Howard            MIN    F     188    75.0  21.220009          US   \n",
       "Nayo Raincock-Ekunwe       NY  F/C     188    79.0  22.351743          CA   \n",
       "Nia Coffey                SAN    F     185    77.0  22.498174          US   \n",
       "Nneka Ogwumike             LA    F     188    79.0  22.351743          US   \n",
       "Noelle Quinn              SEA    G     183    81.0  24.187046          US   \n",
       "Odyssey Sims               LA    G     173    73.0  24.391059          US   \n",
       "Plenette Pierson          MIN  F/C     188    88.0  24.898144          US   \n",
       "Rachel Banham             CON    G     175    76.0  24.816327          US   \n",
       "Ramu Tokashiki            SEA    F     193    80.0  21.477087          JP   \n",
       "Rebecca Allen              NY  G/F     188    74.0  20.937076          AU   \n",
       "Rebekkah Brunson          MIN    F     188    84.0  23.766410          US   \n",
       "Renee Montgomery          MIN    G     170    63.0  21.799308          US   \n",
       "Riquna Williams            LA    G     170    75.0  25.951557          US   \n",
       "Sami Whitcomb             SEA    G     178    66.0  20.830703          US   \n",
       "Sancho Lyttle             ATL    F     193    79.0  21.208623          ES   \n",
       "Sandrine Gruda             LA  F/C     193    84.0  22.550941          FR   \n",
       "Saniya Chong              DAL    G     173    64.0  21.383942          US   \n",
       "Seimone Augustus          MIN  G/F     183    77.0  22.992624          US   \n",
       "Sequoia Holmes            SAN    G     185    70.0  20.452885          US   \n",
       "Shatori Walker-Kimbrough  WAS    G     180    64.0  19.753086          US   \n",
       "Shavonte Zellous           NY    G     178    85.0  26.827421          US   \n",
       "Shay Murphy               SAN    G     180    74.0  22.839506          US   \n",
       "Shekinna Stricklen        CON  G/F     188    81.0  22.917610          US   \n",
       "Shenise Johnson           IND    G     180    78.0  24.074074          US   \n",
       "Skylar Diggins-Smith      DAL    G     175    66.0  21.551020          US   \n",
       "Stefanie Dolson           CHI    C     196    97.0  25.249896          US   \n",
       "Stephanie Talbot          PHO    G     185    87.0  25.420015          AU   \n",
       "Sue Bird                  SEA    G     175    68.0  22.204082          US   \n",
       "\n",
       "                                   Birthdate  Age              College  \n",
       "Name                                                                    \n",
       "Aerial Powers               January 17, 1994   23       Michigan State  \n",
       "Alana Beard                     May 14, 1982   35                 Duke  \n",
       "Alex Bentley                October 27, 1990   26           Penn State  \n",
       "Alex Montgomery            December 11, 1988   28         Georgia Tech  \n",
       "Alexis Jones                  August 5, 1994   23               Baylor  \n",
       "Alexis Peterson                June 20, 1995   22             Syracuse  \n",
       "Alexis Prince               February 5, 1994   23               Baylor  \n",
       "Allie Quigley                  June 20, 1986   31               DePaul  \n",
       "Allisha Gray                October 20, 1992   24       South Carolina  \n",
       "Allison Hightower               June 4, 1988   29                  LSU  \n",
       "Alysha Clark                    July 7, 1987   30     Middle Tennessee  \n",
       "Alyssa Thomas               December 4, 1992   24             Maryland  \n",
       "Amanda Zahui B.               August 9, 1993   24            Minnesota  \n",
       "Amber Harris                January 16, 1988   29               Xavier  \n",
       "Aneika Henry               February 13, 1986   31              Florida  \n",
       "Angel Robinson               August 30, 1995   21        Arizona State  \n",
       "Asia Taylor                  August 22, 1991   26           Louisville  \n",
       "Bashaara Graves               March 17, 1994   23            Tennessee  \n",
       "Breanna Lewis                  June 22, 1994   23         Kansas State  \n",
       "Breanna Stewart              August 27, 1994   22          Connecticut  \n",
       "Bria Hartley              September 30, 1992   24          Connecticut  \n",
       "Bria Holmes                   April 19, 1994   23        West Virginia  \n",
       "Briann January              November 1, 1987   29        Arizona State  \n",
       "Brionna Jones              December 18, 1995   21             Maryland  \n",
       "Brittany Boyd               November 6, 1993   23          UC Berkeley  \n",
       "Brittney Griner             October 18, 1990   26               Baylor  \n",
       "Brittney Sykes                  July 2, 1994   23              Rutgers  \n",
       "Camille Little              January 18, 1985   32       North Carolina  \n",
       "Candace Parker                April 19, 1986   31            Tennessee  \n",
       "Candice Dupree             February 25, 1984   33               Temple  \n",
       "...                                      ...  ...                  ...  \n",
       "Natalie Achonwa            November 22, 1992   24           Notre Dame  \n",
       "Natasha Cloud              February 22, 1992   25       Saint Joseph's  \n",
       "Natasha Howard              February 9, 1991   26        Florida State  \n",
       "Nayo Raincock-Ekunwe         August 29, 1991   25         Simon Fraser  \n",
       "Nia Coffey                      May 21, 1995   22         Northwestern  \n",
       "Nneka Ogwumike              February 7, 1990   27             Stanford  \n",
       "Noelle Quinn                   March 1, 1985   32                 UCLA  \n",
       "Odyssey Sims                   July 13, 1992   25               Baylor  \n",
       "Plenette Pierson             August 31, 1981   35           Texas Tech  \n",
       "Rachel Banham                  July 15, 1993   24            Minnesota  \n",
       "Ramu Tokashiki              November 6, 1991   25                Japan  \n",
       "Rebecca Allen                  June 11, 1992   25            Australia  \n",
       "Rebekkah Brunson           November 12, 1981   35           Georgetown  \n",
       "Renee Montgomery           February 12, 1986   31          Connecticut  \n",
       "Riquna Williams                 May 28, 1990   27           Miami (FL)  \n",
       "Sami Whitcomb                  July 20, 1988   29           Washington  \n",
       "Sancho Lyttle             September 20, 1983   33              Houston  \n",
       "Sandrine Gruda                 June 25, 1987   30               France  \n",
       "Saniya Chong                   June 27, 1994   23          Connecticut  \n",
       "Seimone Augustus              April 30, 1984   33                  LSU  \n",
       "Sequoia Holmes                 June 13, 1986   31                 UNLV  \n",
       "Shatori Walker-Kimbrough        May 18, 1995   22             Maryland  \n",
       "Shavonte Zellous             August 28, 1986   30           Pittsburgh  \n",
       "Shay Murphy                   April 15, 1985   32  Southern California  \n",
       "Shekinna Stricklen             July 30, 1990   27            Tennessee  \n",
       "Shenise Johnson           September 12, 1990   26           Miami (FL)  \n",
       "Skylar Diggins-Smith        February 8, 1990   27           Notre Dame  \n",
       "Stefanie Dolson               August 1, 1992   25          Connecticut  \n",
       "Stephanie Talbot           December 20, 1990   26            Australia  \n",
       "Sue Bird                    October 16, 1980   36          Connecticut  \n",
       "\n",
       "[127 rows x 9 columns]"
      ]
     },
     "execution_count": 48,
     "metadata": {},
     "output_type": "execute_result"
    }
   ],
   "source": [
    "data.loc['Aerial Powers':'Sue Bird', # select players in rows from Aerial Powers to Sue Bird\n",
    "         'Team':'College']           # select columns Team through to College"
   ]
  },
  {
   "cell_type": "markdown",
   "metadata": {},
   "source": [
    "# Visualizing with Pandas"
   ]
  },
  {
   "cell_type": "markdown",
   "metadata": {},
   "source": [
    "Let's being to look at our data closely. Pandas also provides visualization functions. These plot functions are usually just calls to an underlying matplotlib function. We'll use these to explore the structure of our data.   \n",
    "\n",
    "### Histograms for continuous data\n",
    "\n",
    "When we look at the weights of the players, we notice weight data points are numerical. The weight is measurable, continuous variable. We can study how this data looks like. A histogram can reveal the shape of the data, whether it has extreme data points, where the most data points are centred, and how many data points occur within a certain range. \n",
    "Data is grouped into intervals called bins along the horizontal $x$-axis and a frequency count is displayed on the vertical $y$-axis for each bin. We can also adjust bin intervals by obtaining the the minimum and maximum values of the weight."
   ]
  },
  {
   "cell_type": "code",
   "execution_count": 8,
   "metadata": {
    "collapsed": false
   },
   "outputs": [
    {
     "name": "stdout",
     "output_type": "stream",
     "text": [
      "55.0 113.0\n"
     ]
    }
   ],
   "source": [
    "d = data['Weight']\n",
    "print d.min(), d.max()\n"
   ]
  },
  {
   "cell_type": "markdown",
   "metadata": {},
   "source": [
    "Using the `DataFrame.plot()` function, we can select a histogram to show us the frequency or number of players with a certain weight. "
   ]
  },
  {
   "cell_type": "code",
   "execution_count": 26,
   "metadata": {
    "collapsed": false
   },
   "outputs": [
    {
     "data": {
      "text/plain": [
       "<matplotlib.axes._subplots.AxesSubplot at 0x7ff9bc2e7ad0>"
      ]
     },
     "execution_count": 26,
     "metadata": {},
     "output_type": "execute_result"
    },
    {
     "data": {
      "image/png": "[encoded data removed]",
      "text/plain": [
       "<matplotlib.figure.Figure at 0x7ff9bc3314d0>"
      ]
     },
     "metadata": {},
     "output_type": "display_data"
    }
   ],
   "source": [
    "bins = np.linspace(50, 120, 15)  # create 15 bins for the data\n",
    "#print (bins)\n",
    "d.plot.hist(bins=bins) # plot histogram for the continuous data"
   ]
  },
  {
   "cell_type": "markdown",
   "metadata": {},
   "source": [
    "Because data is continuous, there are no gaps between the bars. The vertical axis indicates the frequency of occurence of data points for each bin. For example, in the range $50 \\leq w < 55$, there no data points; between $55 \\leq w < 60$ there are 5 data points, and so on. "
   ]
  },
  {
   "cell_type": "markdown",
   "metadata": {},
   "source": [
    "### Exercise"
   ]
  },
  {
   "cell_type": "markdown",
   "metadata": {},
   "source": [
    "1) Now create a new dataframe that contains information on two players. Use the `Dataframe.ix` function to do this. Accoring to help, `.ix` is the most general indexer and will support any of the inputs in ``.loc`` and ``.iloc``. So we can also give it a list as an argument. Create a list with the country names we are interested in. \n",
    "\n",
    "Confirm that the object returned is a `DataFrame` type. "
   ]
  },
  {
   "cell_type": "code",
   "execution_count": 57,
   "metadata": {
    "collapsed": false
   },
   "outputs": [
    {
     "data": {
      "text/html": [
       "<div>\n",
       "<table border=\"1\" class=\"dataframe\">\n",
       "  <thead>\n",
       "    <tr style=\"text-align: right;\">\n",
       "      <th></th>\n",
       "      <th>Name</th>\n",
       "      <th>Team</th>\n",
       "      <th>Pos</th>\n",
       "      <th>Height</th>\n",
       "      <th>Weight</th>\n",
       "      <th>BMI</th>\n",
       "      <th>Birth_Place</th>\n",
       "      <th>Birthdate</th>\n",
       "      <th>Age</th>\n",
       "      <th>College</th>\n",
       "      <th>...</th>\n",
       "      <th>OREB</th>\n",
       "      <th>DREB</th>\n",
       "      <th>REB</th>\n",
       "      <th>AST</th>\n",
       "      <th>STL</th>\n",
       "      <th>BLK</th>\n",
       "      <th>TO</th>\n",
       "      <th>PTS</th>\n",
       "      <th>DD2</th>\n",
       "      <th>TD3</th>\n",
       "    </tr>\n",
       "    <tr>\n",
       "      <th>Name</th>\n",
       "      <th></th>\n",
       "      <th></th>\n",
       "      <th></th>\n",
       "      <th></th>\n",
       "      <th></th>\n",
       "      <th></th>\n",
       "      <th></th>\n",
       "      <th></th>\n",
       "      <th></th>\n",
       "      <th></th>\n",
       "      <th></th>\n",
       "      <th></th>\n",
       "      <th></th>\n",
       "      <th></th>\n",
       "      <th></th>\n",
       "      <th></th>\n",
       "      <th></th>\n",
       "      <th></th>\n",
       "      <th></th>\n",
       "      <th></th>\n",
       "      <th></th>\n",
       "    </tr>\n",
       "  </thead>\n",
       "  <tbody>\n",
       "    <tr>\n",
       "      <th>Aerial Powers</th>\n",
       "      <td>Aerial Powers</td>\n",
       "      <td>DAL</td>\n",
       "      <td>F</td>\n",
       "      <td>183</td>\n",
       "      <td>71.0</td>\n",
       "      <td>21.200991</td>\n",
       "      <td>US</td>\n",
       "      <td>January 17, 1994</td>\n",
       "      <td>23</td>\n",
       "      <td>Michigan State</td>\n",
       "      <td>...</td>\n",
       "      <td>6</td>\n",
       "      <td>22</td>\n",
       "      <td>28</td>\n",
       "      <td>12</td>\n",
       "      <td>3</td>\n",
       "      <td>6</td>\n",
       "      <td>12</td>\n",
       "      <td>93</td>\n",
       "      <td>0</td>\n",
       "      <td>0</td>\n",
       "    </tr>\n",
       "    <tr>\n",
       "      <th>Sue Bird</th>\n",
       "      <td>Sue Bird</td>\n",
       "      <td>SEA</td>\n",
       "      <td>G</td>\n",
       "      <td>175</td>\n",
       "      <td>68.0</td>\n",
       "      <td>22.204082</td>\n",
       "      <td>US</td>\n",
       "      <td>October 16, 1980</td>\n",
       "      <td>36</td>\n",
       "      <td>Connecticut</td>\n",
       "      <td>...</td>\n",
       "      <td>7</td>\n",
       "      <td>46</td>\n",
       "      <td>53</td>\n",
       "      <td>177</td>\n",
       "      <td>31</td>\n",
       "      <td>3</td>\n",
       "      <td>57</td>\n",
       "      <td>273</td>\n",
       "      <td>1</td>\n",
       "      <td>0</td>\n",
       "    </tr>\n",
       "  </tbody>\n",
       "</table>\n",
       "<p>2 rows × 32 columns</p>\n",
       "</div>"
      ],
      "text/plain": [
       "                        Name Team Pos  Height  Weight        BMI Birth_Place  \\\n",
       "Name                                                                           \n",
       "Aerial Powers  Aerial Powers  DAL   F     183    71.0  21.200991          US   \n",
       "Sue Bird            Sue Bird  SEA   G     175    68.0  22.204082          US   \n",
       "\n",
       "                      Birthdate  Age         College ...  OREB  DREB  REB  \\\n",
       "Name                                                 ...                    \n",
       "Aerial Powers  January 17, 1994   23  Michigan State ...     6    22   28   \n",
       "Sue Bird       October 16, 1980   36     Connecticut ...     7    46   53   \n",
       "\n",
       "               AST  STL  BLK  TO  PTS  DD2  TD3  \n",
       "Name                                             \n",
       "Aerial Powers   12    3    6  12   93    0    0  \n",
       "Sue Bird       177   31    3  57  273    1    0  \n",
       "\n",
       "[2 rows x 32 columns]"
      ]
     },
     "execution_count": 57,
     "metadata": {},
     "output_type": "execute_result"
    }
   ],
   "source": [
    "# your answer\n",
    "l = ['Aerial Powers','Sue Bird']\n",
    "df = data.ix[l]\n",
    "df"
   ]
  },
  {
   "cell_type": "markdown",
   "metadata": {},
   "source": [
    "2) The columns `OREB`, `DREB`, and `REB` stand for Offensive Rebounds, Defensive Rebounds and Rebounds. Compare these stats between the two players. Use a column bar graph to show these stats."
   ]
  },
  {
   "cell_type": "code",
   "execution_count": 60,
   "metadata": {
    "collapsed": false
   },
   "outputs": [
    {
     "data": {
      "text/plain": [
       "Index(['Name', 'Team', 'Pos', 'Height', 'Weight', 'BMI', 'Birth_Place',\n",
       "       'Birthdate', 'Age', 'College', 'Experience', 'Games Played', 'MIN',\n",
       "       'FGM', 'FGA', 'FG%', '15:00', '3PA', '3P%', 'FTM', 'FTA', 'FT%', 'OREB',\n",
       "       'DREB', 'REB', 'AST', 'STL', 'BLK', 'TO', 'PTS', 'DD2', 'TD3'],\n",
       "      dtype='object')"
      ]
     },
     "execution_count": 60,
     "metadata": {},
     "output_type": "execute_result"
    }
   ],
   "source": [
    "df.columns"
   ]
  },
  {
   "cell_type": "code",
   "execution_count": 68,
   "metadata": {
    "collapsed": false
   },
   "outputs": [
    {
     "data": {
      "text/plain": [
       "<matplotlib.axes._subplots.AxesSubplot at 0x7f5b172bfda0>"
      ]
     },
     "execution_count": 68,
     "metadata": {},
     "output_type": "execute_result"
    },
    {
     "data": {
      "image/png": "[encoded data removed]",
      "text/plain": [
       "<matplotlib.figure.Figure at 0x7f5b174e7048>"
      ]
     },
     "metadata": {},
     "output_type": "display_data"
    }
   ],
   "source": [
    "# your answer\n",
    "df.plot(y=['OREB', 'DREB', 'REB'], kind=\"bar\")"
   ]
  },
  {
   "cell_type": "markdown",
   "metadata": {
    "collapsed": true
   },
   "source": [
    "3) Let's be a little more adventurous. Pick two players from the same team and plot a column bar graph to show their rebound stats."
   ]
  },
  {
   "cell_type": "code",
   "execution_count": null,
   "metadata": {
    "collapsed": true
   },
   "outputs": [],
   "source": [
    "# your answer"
   ]
  }
 ],
 "metadata": {
  "kernelspec": {
   "display_name": "Python 2",
   "language": "python",
   "name": "python2"
  },
  "language_info": {
   "codemirror_mode": {
    "name": "ipython",
    "version": 2
   },
   "file_extension": ".py",
   "mimetype": "text/x-python",
   "name": "python",
   "nbconvert_exporter": "python",
   "pygments_lexer": "ipython2",
   "version": "2.7.13"
  }
 },
 "nbformat": 4,
 "nbformat_minor": 2
}
