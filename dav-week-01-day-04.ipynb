{
 "cells": [
  {
   "cell_type": "markdown",
   "metadata": {
    "collapsed": true
   },
   "source": [
    "# <font color='maroon'>Data Features</font>\n"
   ]
  },
  {
   "cell_type": "markdown",
   "metadata": {},
   "source": [
    "What does  the shape of the data given by the visualizaton tell us? In this lesson we continue to explore data and visualize data and identify features of data. We also look closely at the values in the data in order to identify interesting values and missing values. "
   ]
  },
  {
   "cell_type": "code",
   "execution_count": 10,
   "metadata": {
    "collapsed": true
   },
   "outputs": [],
   "source": [
    "import numpy as np\n",
    "import pandas as pd\n",
    "import seaborn as sns\n",
    "import matplotlib.pyplot as plt"
   ]
  },
  {
   "cell_type": "code",
   "execution_count": 3,
   "metadata": {
    "collapsed": true
   },
   "outputs": [],
   "source": [
    "%matplotlib inline"
   ]
  },
  {
   "cell_type": "markdown",
   "metadata": {},
   "source": [
    "## Shape of data"
   ]
  },
  {
   "cell_type": "markdown",
   "metadata": {},
   "source": [
    "Histograms help us visualize the shape of data. Let's use the dataset on information collected about babies whose mothers smoked and did not smoke during pregnancy. We produce histograms of the `Birthweight` and `Birthlength` columns."
   ]
  },
  {
   "cell_type": "code",
   "execution_count": 15,
   "metadata": {
    "collapsed": false
   },
   "outputs": [],
   "source": [
    "data = pd.read_csv('data/smoking-and-pregnancy.csv', sep=';')"
   ]
  },
  {
   "cell_type": "code",
   "execution_count": 16,
   "metadata": {
    "collapsed": false
   },
   "outputs": [
    {
     "data": {
      "text/html": [
       "<div>\n",
       "<table border=\"1\" class=\"dataframe\">\n",
       "  <thead>\n",
       "    <tr style=\"text-align: right;\">\n",
       "      <th></th>\n",
       "      <th>GestationalAge</th>\n",
       "      <th>Sex</th>\n",
       "      <th>Birthweight</th>\n",
       "      <th>Birthlength</th>\n",
       "      <th>Smoking</th>\n",
       "      <th>CigarettesPerDay</th>\n",
       "    </tr>\n",
       "  </thead>\n",
       "  <tbody>\n",
       "    <tr>\n",
       "      <th>123</th>\n",
       "      <td>262</td>\n",
       "      <td>girl</td>\n",
       "      <td>3.20</td>\n",
       "      <td>50.0</td>\n",
       "      <td>N</td>\n",
       "      <td>NaN</td>\n",
       "    </tr>\n",
       "    <tr>\n",
       "      <th>124</th>\n",
       "      <td>279</td>\n",
       "      <td>girl</td>\n",
       "      <td>3.52</td>\n",
       "      <td>53.0</td>\n",
       "      <td>N</td>\n",
       "      <td>NaN</td>\n",
       "    </tr>\n",
       "    <tr>\n",
       "      <th>125</th>\n",
       "      <td>273</td>\n",
       "      <td>girl</td>\n",
       "      <td>3.40</td>\n",
       "      <td>51.0</td>\n",
       "      <td>Y</td>\n",
       "      <td>NaN</td>\n",
       "    </tr>\n",
       "    <tr>\n",
       "      <th>126</th>\n",
       "      <td>274</td>\n",
       "      <td>girl</td>\n",
       "      <td>3.74</td>\n",
       "      <td>52.0</td>\n",
       "      <td>Y</td>\n",
       "      <td>15.0</td>\n",
       "    </tr>\n",
       "    <tr>\n",
       "      <th>127</th>\n",
       "      <td>274</td>\n",
       "      <td>boy</td>\n",
       "      <td>4.08</td>\n",
       "      <td>55.0</td>\n",
       "      <td>N</td>\n",
       "      <td>NaN</td>\n",
       "    </tr>\n",
       "  </tbody>\n",
       "</table>\n",
       "</div>"
      ],
      "text/plain": [
       "     GestationalAge   Sex  Birthweight  Birthlength Smoking  CigarettesPerDay\n",
       "123             262  girl         3.20         50.0       N               NaN\n",
       "124             279  girl         3.52         53.0       N               NaN\n",
       "125             273  girl         3.40         51.0       Y               NaN\n",
       "126             274  girl         3.74         52.0       Y              15.0\n",
       "127             274   boy         4.08         55.0       N               NaN"
      ]
     },
     "execution_count": 16,
     "metadata": {},
     "output_type": "execute_result"
    }
   ],
   "source": [
    "data.tail()"
   ]
  },
  {
   "cell_type": "markdown",
   "metadata": {},
   "source": [
    "Histograms are a great way to visualize the shape of data. They can show us the spread of data and where data is mostly centred. Let's observe the shapes of the `Birthweight`, `Birthlength` and `GestationalAge` using histograms."
   ]
  },
  {
   "cell_type": "code",
   "execution_count": 14,
   "metadata": {
    "collapsed": true
   },
   "outputs": [],
   "source": [
    "#data['Birthweight'].fillna(data['Birthweight'].mean(), inplace=True)\n",
    "#data['Birthlength'].fillna(data['Birthlength'].mean(), inplace=True)"
   ]
  },
  {
   "cell_type": "code",
   "execution_count": 41,
   "metadata": {
    "collapsed": false
   },
   "outputs": [
    {
     "data": {
      "text/plain": [
       "<matplotlib.text.Text at 0x7fc5d50bb310>"
      ]
     },
     "execution_count": 41,
     "metadata": {},
     "output_type": "execute_result"
    },
    {
     "data": {
      "image/png": "[encoded data removed]",
      "text/plain": [
       "<matplotlib.figure.Figure at 0x7fc5d51df290>"
      ]
     },
     "metadata": {},
     "output_type": "display_data"
    }
   ],
   "source": [
    "fig = plt.figure(figsize=(15, 6)) # figure for subplots\n",
    "ax1 = plt.subplot(1,2,1)  # 1 by 2 grid, first grid\n",
    "ax2 = plt.subplot(1,2,2) # 1 by 2 grid, second grid\n",
    "data['Birthweight'].plot(kind='hist', ax=ax1)\n",
    "ax1.set_xlabel('Birthweight')\n",
    "data['Birthlength'].plot(kind='hist', ax=ax2)\n",
    "ax2.set_xlabel('Birthlength')\n",
    "\n",
    "df = pd.read_csv('data/XNAS-ACIW.csv', sep=',')\n",
    "df.max()"
   ]
  },
  {
   "cell_type": "markdown",
   "metadata": {},
   "source": [
    "### Peaks in data\n",
    "\n",
    "Observe the peaks in the data. Distributions with one peak are called unimodal, and distributions with two peaks are called bimodal. For illustrative purposes the following is an example of a dataset with bimodal data.\n",
    "\n",
    "### Gaps in data\n",
    "We observe a gap in the Birthlength data. There we no observations for this interval.\n",
    "\n",
    "### Extreme values\n",
    "\n",
    "We see extreme values in the Birthweight histogram. "
   ]
  },
  {
   "cell_type": "markdown",
   "metadata": {},
   "source": [
    "## Box plots"
   ]
  },
  {
   "cell_type": "markdown",
   "metadata": {},
   "source": [
    "We use the `describe()` to generate descriptive statistics of our dataset. We can use also a box plot to display the distribution of our data based on the minimum, first quartile, median, third quartile and maximum values. The image below indicates where each of the values are located on the box plot. The interquartile range $IQR$ is the difference between the third quartile and the first quartile.\n",
    "\n",
    "<img src='images/simple.box.defs.gif' width='300' height='300'/>\n",
    "Image courtesy of [Box Plot: Display of Distribution](http://www.physics.csbsju.edu/stats/box2.html)\n",
    "\n",
    "Let's look at Birthweight again."
   ]
  },
  {
   "cell_type": "code",
   "execution_count": 46,
   "metadata": {
    "collapsed": false
   },
   "outputs": [
    {
     "data": {
      "text/plain": [
       "<matplotlib.axes._subplots.AxesSubplot at 0x7fc5d50dbdd0>"
      ]
     },
     "execution_count": 46,
     "metadata": {},
     "output_type": "execute_result"
    },
    {
     "data": {
      "image/png": "[encoded data removed]",
      "text/plain": [
       "<matplotlib.figure.Figure at 0x7fc5d5305b50>"
      ]
     },
     "metadata": {},
     "output_type": "display_data"
    }
   ],
   "source": [
    "sns.boxplot(data['Birthweight'], orient='v')"
   ]
  },
  {
   "cell_type": "code",
   "execution_count": null,
   "metadata": {
    "collapsed": true
   },
   "outputs": [],
   "source": []
  },
  {
   "cell_type": "markdown",
   "metadata": {},
   "source": [
    "### Determining outliers\n",
    "\n",
    "The box plot reveals extreme values. There are various ways to determine if your data has outliers. See this [link](https://www.thoughtco.com/what-is-an-outlier-3126227) for a definition of outliers and how to determine them. We can classify outliers by reasoning about them when we plot the data, or by using the standard deviation. Suppose we want to see which Birth weights were three standard deviations away from the mean and would like to classify those as outliers, we could apply the following function, which returns True or False depending on whether a data point is three standard deviations away from the mean."
   ]
  },
  {
   "cell_type": "code",
   "execution_count": 61,
   "metadata": {
    "collapsed": false
   },
   "outputs": [
    {
     "name": "stdout",
     "output_type": "stream",
     "text": [
      "3.538359375 0.63\n",
      "3.538359375 1.49\n"
     ]
    }
   ],
   "source": [
    "d = data['Birthweight'].sub(data['Birthweight'].mean()).div(data['Birthweight'].std()).abs().lt(3)\n",
    "for i in range(len(d)):\n",
    "    if d[i] == False:\n",
    "        print data['Birthweight'].mean(), data['Birthweight'].iloc[i]"
   ]
  },
  {
   "cell_type": "markdown",
   "metadata": {},
   "source": [
    "We observe two outliers."
   ]
  },
  {
   "cell_type": "markdown",
   "metadata": {},
   "source": [
    "### Exercise"
   ]
  },
  {
   "cell_type": "markdown",
   "metadata": {},
   "source": [
    "Boxplots show indicate were the median value lies. We can calculate the mean value by first sorting a list of observations and finding the middle value. Write a Python function that accepts as input a list of numbers and computes the median."
   ]
  },
  {
   "cell_type": "code",
   "execution_count": null,
   "metadata": {
    "collapsed": true
   },
   "outputs": [],
   "source": [
    "# your answer"
   ]
  },
  {
   "cell_type": "markdown",
   "metadata": {},
   "source": [
    "We observe two peaks in the data. "
   ]
  },
  {
   "cell_type": "markdown",
   "metadata": {},
   "source": [
    "## Identifying missing values"
   ]
  },
  {
   "cell_type": "code",
   "execution_count": 16,
   "metadata": {
    "collapsed": false
   },
   "outputs": [
    {
     "data": {
      "text/html": [
       "<div>\n",
       "<table border=\"1\" class=\"dataframe\">\n",
       "  <thead>\n",
       "    <tr style=\"text-align: right;\">\n",
       "      <th></th>\n",
       "      <th>GestationalAge</th>\n",
       "      <th>Sex</th>\n",
       "      <th>Birthweight</th>\n",
       "      <th>Birthlength</th>\n",
       "      <th>Smoking</th>\n",
       "      <th>CigarettesPerDay</th>\n",
       "    </tr>\n",
       "  </thead>\n",
       "  <tbody>\n",
       "    <tr>\n",
       "      <th>123</th>\n",
       "      <td>False</td>\n",
       "      <td>False</td>\n",
       "      <td>False</td>\n",
       "      <td>False</td>\n",
       "      <td>False</td>\n",
       "      <td>True</td>\n",
       "    </tr>\n",
       "    <tr>\n",
       "      <th>124</th>\n",
       "      <td>False</td>\n",
       "      <td>False</td>\n",
       "      <td>False</td>\n",
       "      <td>False</td>\n",
       "      <td>False</td>\n",
       "      <td>True</td>\n",
       "    </tr>\n",
       "    <tr>\n",
       "      <th>125</th>\n",
       "      <td>False</td>\n",
       "      <td>False</td>\n",
       "      <td>False</td>\n",
       "      <td>False</td>\n",
       "      <td>False</td>\n",
       "      <td>True</td>\n",
       "    </tr>\n",
       "    <tr>\n",
       "      <th>126</th>\n",
       "      <td>False</td>\n",
       "      <td>False</td>\n",
       "      <td>False</td>\n",
       "      <td>False</td>\n",
       "      <td>False</td>\n",
       "      <td>False</td>\n",
       "    </tr>\n",
       "    <tr>\n",
       "      <th>127</th>\n",
       "      <td>False</td>\n",
       "      <td>False</td>\n",
       "      <td>False</td>\n",
       "      <td>False</td>\n",
       "      <td>False</td>\n",
       "      <td>True</td>\n",
       "    </tr>\n",
       "  </tbody>\n",
       "</table>\n",
       "</div>"
      ],
      "text/plain": [
       "    GestationalAge    Sex Birthweight Birthlength Smoking CigarettesPerDay\n",
       "123          False  False       False       False   False             True\n",
       "124          False  False       False       False   False             True\n",
       "125          False  False       False       False   False             True\n",
       "126          False  False       False       False   False            False\n",
       "127          False  False       False       False   False             True"
      ]
     },
     "execution_count": 16,
     "metadata": {},
     "output_type": "execute_result"
    }
   ],
   "source": [
    "data.isnull().tail()"
   ]
  },
  {
   "cell_type": "markdown",
   "metadata": {},
   "source": [
    "Notice that there are missing values, `NaN`, in the dataset.Missing values can also be shown as \"not available\", \"NA\", or any identifier that shows that data is missing. We can use the `isnull()` function to find these values. \n",
    "\n",
    "Now let's count the missing values."
   ]
  },
  {
   "cell_type": "code",
   "execution_count": 48,
   "metadata": {
    "collapsed": false
   },
   "outputs": [
    {
     "data": {
      "text/plain": [
       "GestationalAge        0\n",
       "Sex                   0\n",
       "Birthweight           0\n",
       "Birthlength           0\n",
       "Smoking               0\n",
       "CigarettesPerDay    104\n",
       "dtype: int64"
      ]
     },
     "execution_count": 48,
     "metadata": {},
     "output_type": "execute_result"
    }
   ],
   "source": [
    "data.isnull().sum(axis=0) # count the missing values in each column"
   ]
  },
  {
   "cell_type": "markdown",
   "metadata": {},
   "source": [
    "### Dealing with missing values"
   ]
  },
  {
   "cell_type": "markdown",
   "metadata": {},
   "source": [
    "How do we handle missing values? Firstly, we have to identify the pattern of missing data. If a respondent in a survey chooses to not answer certain questions, a pattern could be observed in their responses. Data may also be missing at random. Depending on the nature of the relationship between the missing variable and other variables, we can apply certain techniques to treat missing values. See this link as well, which gives detailed techniques how to deal with missing values: <a href='https://support.sas.com/documentation/cdl/en/statug/63962/HTML/default/viewer.htm#statug_mi_sect019.htm'>The MI Procedure</a>.\n",
    "\n",
    "If a respondent in a survey enters the same response to all the questions, replacing missing values with the same response if a reasonable thing to do. Dropping missing values when the sample set is small will affect the results of the statistical test."
   ]
  },
  {
   "cell_type": "markdown",
   "metadata": {},
   "source": [
    "#### Dropping missing values in Pandas\n",
    "\n",
    "If the results are crucial for a test, dropping these values is an option. The `dropna()` lets us drop rows with missing values."
   ]
  },
  {
   "cell_type": "code",
   "execution_count": 52,
   "metadata": {
    "collapsed": false
   },
   "outputs": [
    {
     "data": {
      "text/html": [
       "<div>\n",
       "<table border=\"1\" class=\"dataframe\">\n",
       "  <thead>\n",
       "    <tr style=\"text-align: right;\">\n",
       "      <th></th>\n",
       "      <th>GestationalAge</th>\n",
       "      <th>Sex</th>\n",
       "      <th>Birthweight</th>\n",
       "      <th>Birthlength</th>\n",
       "      <th>Smoking</th>\n",
       "      <th>CigarettesPerDay</th>\n",
       "    </tr>\n",
       "  </thead>\n",
       "  <tbody>\n",
       "    <tr>\n",
       "      <th>3</th>\n",
       "      <td>291</td>\n",
       "      <td>girl</td>\n",
       "      <td>4.58</td>\n",
       "      <td>57.000000</td>\n",
       "      <td>Y</td>\n",
       "      <td>15.0</td>\n",
       "    </tr>\n",
       "    <tr>\n",
       "      <th>5</th>\n",
       "      <td>284</td>\n",
       "      <td>girl</td>\n",
       "      <td>4.46</td>\n",
       "      <td>53.500000</td>\n",
       "      <td>Y</td>\n",
       "      <td>5.0</td>\n",
       "    </tr>\n",
       "    <tr>\n",
       "      <th>6</th>\n",
       "      <td>279</td>\n",
       "      <td>girl</td>\n",
       "      <td>3.55</td>\n",
       "      <td>52.000000</td>\n",
       "      <td>Y</td>\n",
       "      <td>10.0</td>\n",
       "    </tr>\n",
       "    <tr>\n",
       "      <th>7</th>\n",
       "      <td>287</td>\n",
       "      <td>girl</td>\n",
       "      <td>3.26</td>\n",
       "      <td>53.500000</td>\n",
       "      <td>Y</td>\n",
       "      <td>10.0</td>\n",
       "    </tr>\n",
       "    <tr>\n",
       "      <th>8</th>\n",
       "      <td>274</td>\n",
       "      <td>girl</td>\n",
       "      <td>3.50</td>\n",
       "      <td>53.000000</td>\n",
       "      <td>Y</td>\n",
       "      <td>10.0</td>\n",
       "    </tr>\n",
       "    <tr>\n",
       "      <th>9</th>\n",
       "      <td>293</td>\n",
       "      <td>boy</td>\n",
       "      <td>3.10</td>\n",
       "      <td>51.000000</td>\n",
       "      <td>Y</td>\n",
       "      <td>12.0</td>\n",
       "    </tr>\n",
       "    <tr>\n",
       "      <th>11</th>\n",
       "      <td>293</td>\n",
       "      <td>boy</td>\n",
       "      <td>3.74</td>\n",
       "      <td>53.000000</td>\n",
       "      <td>Y</td>\n",
       "      <td>15.0</td>\n",
       "    </tr>\n",
       "    <tr>\n",
       "      <th>12</th>\n",
       "      <td>278</td>\n",
       "      <td>girl</td>\n",
       "      <td>3.76</td>\n",
       "      <td>50.000000</td>\n",
       "      <td>Y</td>\n",
       "      <td>5.0</td>\n",
       "    </tr>\n",
       "    <tr>\n",
       "      <th>14</th>\n",
       "      <td>277</td>\n",
       "      <td>boy</td>\n",
       "      <td>3.55</td>\n",
       "      <td>52.000000</td>\n",
       "      <td>Y</td>\n",
       "      <td>2.0</td>\n",
       "    </tr>\n",
       "    <tr>\n",
       "      <th>15</th>\n",
       "      <td>288</td>\n",
       "      <td>girl</td>\n",
       "      <td>3.77</td>\n",
       "      <td>53.000000</td>\n",
       "      <td>Y</td>\n",
       "      <td>15.0</td>\n",
       "    </tr>\n",
       "    <tr>\n",
       "      <th>16</th>\n",
       "      <td>277</td>\n",
       "      <td>girl</td>\n",
       "      <td>3.30</td>\n",
       "      <td>51.000000</td>\n",
       "      <td>Y</td>\n",
       "      <td>20.0</td>\n",
       "    </tr>\n",
       "    <tr>\n",
       "      <th>17</th>\n",
       "      <td>295</td>\n",
       "      <td>boy</td>\n",
       "      <td>4.00</td>\n",
       "      <td>55.000000</td>\n",
       "      <td>Y</td>\n",
       "      <td>1.0</td>\n",
       "    </tr>\n",
       "    <tr>\n",
       "      <th>20</th>\n",
       "      <td>278</td>\n",
       "      <td>boy</td>\n",
       "      <td>3.40</td>\n",
       "      <td>52.000000</td>\n",
       "      <td>Y</td>\n",
       "      <td>2.0</td>\n",
       "    </tr>\n",
       "    <tr>\n",
       "      <th>21</th>\n",
       "      <td>281</td>\n",
       "      <td>boy</td>\n",
       "      <td>3.24</td>\n",
       "      <td>51.000000</td>\n",
       "      <td>Y</td>\n",
       "      <td>10.0</td>\n",
       "    </tr>\n",
       "    <tr>\n",
       "      <th>23</th>\n",
       "      <td>274</td>\n",
       "      <td>boy</td>\n",
       "      <td>3.76</td>\n",
       "      <td>53.000000</td>\n",
       "      <td>N</td>\n",
       "      <td>2.0</td>\n",
       "    </tr>\n",
       "    <tr>\n",
       "      <th>24</th>\n",
       "      <td>236</td>\n",
       "      <td>girl</td>\n",
       "      <td>1.90</td>\n",
       "      <td>52.075397</td>\n",
       "      <td>Y</td>\n",
       "      <td>5.0</td>\n",
       "    </tr>\n",
       "    <tr>\n",
       "      <th>26</th>\n",
       "      <td>207</td>\n",
       "      <td>girl</td>\n",
       "      <td>0.63</td>\n",
       "      <td>52.075397</td>\n",
       "      <td>Y</td>\n",
       "      <td>12.0</td>\n",
       "    </tr>\n",
       "    <tr>\n",
       "      <th>27</th>\n",
       "      <td>293</td>\n",
       "      <td>girl</td>\n",
       "      <td>3.83</td>\n",
       "      <td>55.000000</td>\n",
       "      <td>Y</td>\n",
       "      <td>1.0</td>\n",
       "    </tr>\n",
       "    <tr>\n",
       "      <th>29</th>\n",
       "      <td>281</td>\n",
       "      <td>girl</td>\n",
       "      <td>4.00</td>\n",
       "      <td>54.000000</td>\n",
       "      <td>Y</td>\n",
       "      <td>6.0</td>\n",
       "    </tr>\n",
       "    <tr>\n",
       "      <th>31</th>\n",
       "      <td>285</td>\n",
       "      <td>boy</td>\n",
       "      <td>3.74</td>\n",
       "      <td>51.000000</td>\n",
       "      <td>Y</td>\n",
       "      <td>10.0</td>\n",
       "    </tr>\n",
       "    <tr>\n",
       "      <th>32</th>\n",
       "      <td>279</td>\n",
       "      <td>boy</td>\n",
       "      <td>2.70</td>\n",
       "      <td>49.000000</td>\n",
       "      <td>Y</td>\n",
       "      <td>15.0</td>\n",
       "    </tr>\n",
       "    <tr>\n",
       "      <th>35</th>\n",
       "      <td>282</td>\n",
       "      <td>girl</td>\n",
       "      <td>2.85</td>\n",
       "      <td>50.000000</td>\n",
       "      <td>Y</td>\n",
       "      <td>10.0</td>\n",
       "    </tr>\n",
       "    <tr>\n",
       "      <th>36</th>\n",
       "      <td>282</td>\n",
       "      <td>boy</td>\n",
       "      <td>3.36</td>\n",
       "      <td>50.000000</td>\n",
       "      <td>Y</td>\n",
       "      <td>3.0</td>\n",
       "    </tr>\n",
       "    <tr>\n",
       "      <th>126</th>\n",
       "      <td>274</td>\n",
       "      <td>girl</td>\n",
       "      <td>3.74</td>\n",
       "      <td>52.000000</td>\n",
       "      <td>Y</td>\n",
       "      <td>15.0</td>\n",
       "    </tr>\n",
       "  </tbody>\n",
       "</table>\n",
       "</div>"
      ],
      "text/plain": [
       "     GestationalAge   Sex  Birthweight  Birthlength Smoking  CigarettesPerDay\n",
       "3               291  girl         4.58    57.000000       Y              15.0\n",
       "5               284  girl         4.46    53.500000       Y               5.0\n",
       "6               279  girl         3.55    52.000000       Y              10.0\n",
       "7               287  girl         3.26    53.500000       Y              10.0\n",
       "8               274  girl         3.50    53.000000       Y              10.0\n",
       "9               293   boy         3.10    51.000000       Y              12.0\n",
       "11              293   boy         3.74    53.000000       Y              15.0\n",
       "12              278  girl         3.76    50.000000       Y               5.0\n",
       "14              277   boy         3.55    52.000000       Y               2.0\n",
       "15              288  girl         3.77    53.000000       Y              15.0\n",
       "16              277  girl         3.30    51.000000       Y              20.0\n",
       "17              295   boy         4.00    55.000000       Y               1.0\n",
       "20              278   boy         3.40    52.000000       Y               2.0\n",
       "21              281   boy         3.24    51.000000       Y              10.0\n",
       "23              274   boy         3.76    53.000000       N               2.0\n",
       "24              236  girl         1.90    52.075397       Y               5.0\n",
       "26              207  girl         0.63    52.075397       Y              12.0\n",
       "27              293  girl         3.83    55.000000       Y               1.0\n",
       "29              281  girl         4.00    54.000000       Y               6.0\n",
       "31              285   boy         3.74    51.000000       Y              10.0\n",
       "32              279   boy         2.70    49.000000       Y              15.0\n",
       "35              282  girl         2.85    50.000000       Y              10.0\n",
       "36              282   boy         3.36    50.000000       Y               3.0\n",
       "126             274  girl         3.74    52.000000       Y              15.0"
      ]
     },
     "execution_count": 52,
     "metadata": {},
     "output_type": "execute_result"
    }
   ],
   "source": [
    "data.dropna()"
   ]
  },
  {
   "cell_type": "markdown",
   "metadata": {},
   "source": [
    "#### Filling in missing values with Pandas"
   ]
  },
  {
   "cell_type": "markdown",
   "metadata": {},
   "source": [
    "We could transform the missing values for counting purposes especially when we need to group data. Suppose we want visualise the missing values? Let's use the `DataFrame.fillna()` function and full in those missing values with a `-1`. We're assuming `-1` is a safe number and won't affect the other values already in the table. "
   ]
  },
  {
   "cell_type": "code",
   "execution_count": 55,
   "metadata": {
    "collapsed": true
   },
   "outputs": [],
   "source": [
    "df = data.fillna(-1)"
   ]
  },
  {
   "cell_type": "code",
   "execution_count": 56,
   "metadata": {
    "collapsed": false
   },
   "outputs": [
    {
     "data": {
      "text/html": [
       "<div>\n",
       "<table border=\"1\" class=\"dataframe\">\n",
       "  <thead>\n",
       "    <tr style=\"text-align: right;\">\n",
       "      <th></th>\n",
       "      <th>GestationalAge</th>\n",
       "      <th>Sex</th>\n",
       "      <th>Birthweight</th>\n",
       "      <th>Birthlength</th>\n",
       "      <th>CigarettesPerDay</th>\n",
       "    </tr>\n",
       "    <tr>\n",
       "      <th>Smoking</th>\n",
       "      <th></th>\n",
       "      <th></th>\n",
       "      <th></th>\n",
       "      <th></th>\n",
       "      <th></th>\n",
       "    </tr>\n",
       "  </thead>\n",
       "  <tbody>\n",
       "    <tr>\n",
       "      <th>N</th>\n",
       "      <td>94</td>\n",
       "      <td>94</td>\n",
       "      <td>94</td>\n",
       "      <td>94</td>\n",
       "      <td>94</td>\n",
       "    </tr>\n",
       "    <tr>\n",
       "      <th>Y</th>\n",
       "      <td>34</td>\n",
       "      <td>34</td>\n",
       "      <td>34</td>\n",
       "      <td>34</td>\n",
       "      <td>34</td>\n",
       "    </tr>\n",
       "  </tbody>\n",
       "</table>\n",
       "</div>"
      ],
      "text/plain": [
       "         GestationalAge  Sex  Birthweight  Birthlength  CigarettesPerDay\n",
       "Smoking                                                                 \n",
       "N                    94   94           94           94                94\n",
       "Y                    34   34           34           34                34"
      ]
     },
     "execution_count": 56,
     "metadata": {},
     "output_type": "execute_result"
    }
   ],
   "source": [
    "df.groupby(['Smoking']).count()"
   ]
  },
  {
   "cell_type": "markdown",
   "metadata": {},
   "source": [
    "We create a new dataframe to content the difference between the `NaN` values, which we've replaced with `-1`'s and the count without the `NaN` values."
   ]
  },
  {
   "cell_type": "code",
   "execution_count": 16,
   "metadata": {
    "collapsed": true
   },
   "outputs": [],
   "source": [
    "df = (df.groupby(['Smoking']).count() - data.groupby(['Smoking']).count())"
   ]
  },
  {
   "cell_type": "code",
   "execution_count": 17,
   "metadata": {
    "collapsed": false
   },
   "outputs": [
    {
     "data": {
      "text/html": [
       "<div>\n",
       "<style>\n",
       "    .dataframe thead tr:only-child th {\n",
       "        text-align: right;\n",
       "    }\n",
       "\n",
       "    .dataframe thead th {\n",
       "        text-align: left;\n",
       "    }\n",
       "\n",
       "    .dataframe tbody tr th {\n",
       "        vertical-align: top;\n",
       "    }\n",
       "</style>\n",
       "<table border=\"1\" class=\"dataframe\">\n",
       "  <thead>\n",
       "    <tr style=\"text-align: right;\">\n",
       "      <th></th>\n",
       "      <th>GestationalAge</th>\n",
       "      <th>Sex</th>\n",
       "      <th>Birthweight</th>\n",
       "      <th>Birthlength</th>\n",
       "      <th>CigarettesPerDay</th>\n",
       "    </tr>\n",
       "    <tr>\n",
       "      <th>Smoking</th>\n",
       "      <th></th>\n",
       "      <th></th>\n",
       "      <th></th>\n",
       "      <th></th>\n",
       "      <th></th>\n",
       "    </tr>\n",
       "  </thead>\n",
       "  <tbody>\n",
       "    <tr>\n",
       "      <th>N</th>\n",
       "      <td>0</td>\n",
       "      <td>0</td>\n",
       "      <td>0</td>\n",
       "      <td>0</td>\n",
       "      <td>93</td>\n",
       "    </tr>\n",
       "    <tr>\n",
       "      <th>Y</th>\n",
       "      <td>0</td>\n",
       "      <td>0</td>\n",
       "      <td>0</td>\n",
       "      <td>2</td>\n",
       "      <td>11</td>\n",
       "    </tr>\n",
       "  </tbody>\n",
       "</table>\n",
       "</div>"
      ],
      "text/plain": [
       "         GestationalAge  Sex  Birthweight  Birthlength  CigarettesPerDay\n",
       "Smoking                                                                 \n",
       "N                     0    0            0            0                93\n",
       "Y                     0    0            0            2                11"
      ]
     },
     "execution_count": 17,
     "metadata": {},
     "output_type": "execute_result"
    }
   ],
   "source": [
    "df"
   ]
  },
  {
   "cell_type": "markdown",
   "metadata": {
    "collapsed": true
   },
   "source": [
    "Here we see that the number of missing values grouped according to `Smoking` matches the original count."
   ]
  },
  {
   "cell_type": "markdown",
   "metadata": {},
   "source": [
    "### Exercise"
   ]
  },
  {
   "cell_type": "markdown",
   "metadata": {},
   "source": [
    "Replace the missing `Birthlength` data points in the data set with the mean of the `Birthlength`."
   ]
  },
  {
   "cell_type": "code",
   "execution_count": 11,
   "metadata": {
    "collapsed": true
   },
   "outputs": [],
   "source": [
    "# your answer"
   ]
  }
 ],
 "metadata": {
  "kernelspec": {
   "display_name": "Python 2",
   "language": "python",
   "name": "python2"
  },
  "language_info": {
   "codemirror_mode": {
    "name": "ipython",
    "version": 2
   },
   "file_extension": ".py",
   "mimetype": "text/x-python",
   "name": "python",
   "nbconvert_exporter": "python",
   "pygments_lexer": "ipython2",
   "version": "2.7.13"
  }
 },
 "nbformat": 4,
 "nbformat_minor": 2
}
